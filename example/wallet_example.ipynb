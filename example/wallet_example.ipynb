{
 "cells": [
  {
   "cell_type": "markdown",
   "metadata": {},
   "source": [
    "# Interaction with a wallet, revocation-Registry, ERC1056-contract and signing/verifying strings"
   ]
  },
  {
   "cell_type": "code",
   "execution_count": 1,
   "metadata": {},
   "outputs": [],
   "source": [
    "import subprocess\n",
    "import json"
   ]
  },
  {
   "cell_type": "markdown",
   "metadata": {},
   "source": [
    "### General Notes on Exit-Codes\n",
    "\n",
    "- exit-code 0: Everthing worked fine\n",
    "- exit-code 2: something went wrong"
   ]
  },
  {
   "cell_type": "markdown",
   "metadata": {},
   "source": [
    "## Wallet\n",
    "\n"
   ]
  },
  {
   "cell_type": "code",
   "execution_count": 26,
   "metadata": {},
   "outputs": [
    {
     "name": "stdout",
     "output_type": "stream",
     "text": [
      "Interacting with a ssi-wallet\n",
      "\n",
      "Usage: main wallet [arguments]\n",
      "-h, --help                          Print this usage information.\n",
      "-i, --[no-]init                     Initialize a new wallet\n",
      "-d, --directory                     Directory in Filesystem to store Wallet-Files\n",
      "                                    (defaults to \"ssi_wallet\")\n",
      "-p, --password                      Password the wallet is secured with\n",
      "-c, --[no-]generateConnectionDid    generates a new DID for a Connection\n",
      "-m, --mnemonic                      restore a wallet with that mnemonic\n",
      "-l, --[no-]list                     list all connections\n",
      "\n",
      "Run \"main help\" to see global options.\n",
      "\n"
     ]
    }
   ],
   "source": [
    "res = subprocess.run(['../build/main', 'wallet', '--help'], capture_output=True)\n",
    "print(res.stdout.decode())"
   ]
  },
  {
   "cell_type": "markdown",
   "metadata": {},
   "source": [
    "Initilize a new wallet; use standard path"
   ]
  },
  {
   "cell_type": "code",
   "execution_count": 7,
   "metadata": {
    "scrolled": true
   },
   "outputs": [
    {
     "name": "stdout",
     "output_type": "stream",
     "text": [
      "---Stdout---\n",
      "The keys in this wallet could be restored with this mnemonic (store it at a safe place): fetch danger sentence leg traffic custom injury apple nominee idea tongue just\n",
      "\n",
      "---Stderr---\n",
      "\n",
      "---Exit-Code---\n",
      "0\n"
     ]
    }
   ],
   "source": [
    "res = subprocess.run([\"../build/main\",\n",
    "                      \"wallet\",\n",
    "                    \"-p\", \"password\",\n",
    "                     \"-i\"], \n",
    "                     capture_output=True )\n",
    "\n",
    "print('---Stdout---')\n",
    "print(res.stdout.decode())\n",
    "print('---Stderr---')\n",
    "print(res.stderr.decode())\n",
    "print('---Exit-Code---')\n",
    "print(res.returncode)"
   ]
  },
  {
   "cell_type": "markdown",
   "metadata": {},
   "source": [
    "Initialize new wallet in custom directory"
   ]
  },
  {
   "cell_type": "code",
   "execution_count": 9,
   "metadata": {},
   "outputs": [
    {
     "name": "stdout",
     "output_type": "stream",
     "text": [
      "---Stdout---\n",
      "The keys in this wallet could be restored with this mnemonic (store it at a safe place): wasp make exotic jazz output echo huge vital join glow bonus party\n",
      "\n",
      "---Stderr---\n",
      "\n",
      "---Exit-Code---\n",
      "0\n"
     ]
    }
   ],
   "source": [
    "res = subprocess.run([\"../build/main\",\n",
    "                      \"wallet\",\n",
    "                    \"-p\", \"password\",\n",
    "                      \"-d\", \"test/example_wallet\",\n",
    "                     \"-i\"], \n",
    "                     capture_output=True )\n",
    "\n",
    "print('---Stdout---')\n",
    "print(res.stdout.decode())\n",
    "print('---Stderr---')\n",
    "print(res.stderr.decode())\n",
    "print('---Exit-Code---')\n",
    "print(res.returncode)"
   ]
  },
  {
   "cell_type": "markdown",
   "metadata": {},
   "source": [
    "resore wallet-keys with mnemonic"
   ]
  },
  {
   "cell_type": "code",
   "execution_count": 12,
   "metadata": {},
   "outputs": [
    {
     "name": "stdout",
     "output_type": "stream",
     "text": [
      "---Stdout---\n",
      "Successfully restored wallet with mnemonic: situate recall vapor van layer stage nerve wink gap vague muffin vacuum\n",
      "\n",
      "---Stderr---\n",
      "\n",
      "---Exit-Code---\n",
      "0\n"
     ]
    }
   ],
   "source": [
    "res = subprocess.run([\"../build/main\",\n",
    "                      \"wallet\",\n",
    "                    \"-p\", \"password\",\n",
    "                      \"-d\", \"test/ganache_accounts\",\n",
    "                     \"-m\", \"situate recall vapor van layer stage nerve wink gap vague muffin vacuum\"], \n",
    "                     capture_output=True )\n",
    "\n",
    "print('---Stdout---')\n",
    "print(res.stdout.decode())\n",
    "print('---Stderr---')\n",
    "print(res.stderr.decode())\n",
    "print('---Exit-Code---')\n",
    "print(res.returncode)"
   ]
  },
  {
   "cell_type": "markdown",
   "metadata": {},
   "source": [
    "Generate a new did for a new connection"
   ]
  },
  {
   "cell_type": "code",
   "execution_count": 24,
   "metadata": {},
   "outputs": [
    {
     "name": "stdout",
     "output_type": "stream",
     "text": [
      "---Stdout---\n",
      "did:ethr:0xb3d0A3E8193cAA1E0f98ee69c8d4d8b4f8CFcCeF\n",
      "\n",
      "---Stderr---\n",
      "\n",
      "---Exit-Code---\n",
      "0\n"
     ]
    }
   ],
   "source": [
    "res = subprocess.run([\"../build/main\",\n",
    "                      \"wallet\",\n",
    "                    \"-p\", \"password\",\n",
    "                      \"-d\", \"test/example_wallet\",\n",
    "                     \"-c\"], \n",
    "                     capture_output=True )\n",
    "\n",
    "print('---Stdout---')\n",
    "print(res.stdout.decode())\n",
    "print('---Stderr---')\n",
    "print(res.stderr.decode())\n",
    "print('---Exit-Code---')\n",
    "print(res.returncode)"
   ]
  },
  {
   "cell_type": "markdown",
   "metadata": {},
   "source": [
    "List all connections"
   ]
  },
  {
   "cell_type": "code",
   "execution_count": 28,
   "metadata": {},
   "outputs": [
    {
     "name": "stdout",
     "output_type": "stream",
     "text": [
      "---Stdout---\n",
      "[did:ethr:0x4c9656E42cd635Fe5023093E266701d96e7e304e, did:ethr:0xb3d0A3E8193cAA1E0f98ee69c8d4d8b4f8CFcCeF]\n",
      "\n",
      "---Stderr---\n",
      "\n",
      "---Exit-Code---\n",
      "0\n"
     ]
    }
   ],
   "source": [
    "res = subprocess.run([\"../build/main\",\n",
    "                      \"wallet\",\n",
    "                    \"-p\", \"password\",\n",
    "                      \"-d\", \"test/example_wallet\",\n",
    "                     \"-l\"], \n",
    "                     capture_output=True )\n",
    "\n",
    "print('---Stdout---')\n",
    "print(res.stdout.decode())\n",
    "print('---Stderr---')\n",
    "print(res.stderr.decode())\n",
    "print('---Exit-Code---')\n",
    "print(res.returncode)"
   ]
  },
  {
   "cell_type": "markdown",
   "metadata": {},
   "source": [
    "## Revocation Registry"
   ]
  },
  {
   "cell_type": "code",
   "execution_count": 4,
   "metadata": {},
   "outputs": [
    {
     "name": "stdout",
     "output_type": "stream",
     "text": [
      "Interaction with Revocation registry Contract\n",
      "\n",
      "Usage: main revocation [arguments]\n",
      "-h, --help                  Print this usage information.\n",
      "    --rpcUrl                Url for RPC-Endpoint of Ethereum-Node\n",
      "                            (defaults to \"http://localhost:8545\")\n",
      "-r, --revocationContract    Contract address of Revocation-Contract\n",
      "-i, --[no-]init             Initialize (deploy) new Revocation-Registry-Contract to Ethereum\n",
      "    --isRevoked             Id of credential thats revocation status should be checked\n",
      "    --revoke                id of credential that should be revoked\n",
      "-w, --wallet                Path to a Wallet the signing keys are in\n",
      "                            (defaults to \"ssi_wallet\")\n",
      "-p, --password              Password of the wallet\n",
      "-d, --did                   The did of which the private key should be used to authorize deployment and revocation operations. If this is not given, the standard-issuer-key is used\n",
      "\n",
      "Run \"main help\" to see global options.\n",
      "\n"
     ]
    }
   ],
   "source": [
    "res = subprocess.run(['../build/main', 'revocation', '--help'], capture_output=True)\n",
    "print(res.stdout.decode())"
   ]
  },
  {
   "cell_type": "markdown",
   "metadata": {},
   "source": [
    "generate new revocation registry"
   ]
  },
  {
   "cell_type": "code",
   "execution_count": 35,
   "metadata": {},
   "outputs": [
    {
     "name": "stdout",
     "output_type": "stream",
     "text": [
      "---Stdout---\n",
      "0xbb63625b27Ba07939bb253C4fADeB0aEA056BD2F\n",
      "\n",
      "---Stderr---\n",
      "\n",
      "---Exit-Code---\n",
      "0\n"
     ]
    }
   ],
   "source": [
    "res = subprocess.run([\"../build/main\",\n",
    "                      \"revocation\",\n",
    "                    \"-p\", \"password\",\n",
    "                      \"-w\", \"test/example_wallet\",\n",
    "                     \"-i\", \n",
    "                      \"--rpcUrl\", \"http://localhost:7545\",\n",
    "                     \"-d\", \"did:ethr:0xb3d0A3E8193cAA1E0f98ee69c8d4d8b4f8CFcCeF\"], \n",
    "                     capture_output=True )\n",
    "\n",
    "print('---Stdout---')\n",
    "print(res.stdout.decode())\n",
    "print('---Stderr---')\n",
    "print(res.stderr.decode())\n",
    "print('---Exit-Code---')\n",
    "print(res.returncode)"
   ]
  },
  {
   "cell_type": "markdown",
   "metadata": {},
   "source": [
    "check for Revocation"
   ]
  },
  {
   "cell_type": "code",
   "execution_count": 36,
   "metadata": {},
   "outputs": [
    {
     "name": "stdout",
     "output_type": "stream",
     "text": [
      "---Stdout---\n",
      "false\n",
      "\n",
      "---Stderr---\n",
      "\n",
      "---Exit-Code---\n",
      "0\n"
     ]
    }
   ],
   "source": [
    "res = subprocess.run([\"../build/main\",\n",
    "                      \"revocation\",\n",
    "                      \"--rpcUrl\", \"http://localhost:7545\",\n",
    "                     \"--isRevoked\", \"did:ethr:0x0597c77c931955Ad5fac6014C7cd0090F4B85F33\",\n",
    "                     \"-r\" , \"0xbb63625b27Ba07939bb253C4fADeB0aEA056BD2F\"], \n",
    "                     capture_output=True )\n",
    "\n",
    "print('---Stdout---')\n",
    "print(res.stdout.decode())\n",
    "print('---Stderr---')\n",
    "print(res.stderr.decode())\n",
    "print('---Exit-Code---')\n",
    "print(res.returncode)"
   ]
  },
  {
   "cell_type": "markdown",
   "metadata": {},
   "source": [
    "Revoke"
   ]
  },
  {
   "cell_type": "code",
   "execution_count": 37,
   "metadata": {},
   "outputs": [
    {
     "name": "stdout",
     "output_type": "stream",
     "text": [
      "---Stdout---\n",
      "Credential revoked\n",
      "\n",
      "---Stderr---\n",
      "\n",
      "---Exit-Code---\n",
      "0\n"
     ]
    }
   ],
   "source": [
    "res = subprocess.run([\"../build/main\",\n",
    "                      \"revocation\",\n",
    "                      \"--rpcUrl\", \"http://localhost:7545\",\n",
    "                     \"--revoke\", \"did:ethr:0x0597c77c931955Ad5fac6014C7cd0090F4B85F33\",\n",
    "                     \"-r\" , \"0xbb63625b27Ba07939bb253C4fADeB0aEA056BD2F\",\n",
    "                      \"-p\", \"password\",\n",
    "                      \"-w\", \"test/example_wallet\",\n",
    "                     \"-d\", \"did:ethr:0xb3d0A3E8193cAA1E0f98ee69c8d4d8b4f8CFcCeF\"], \n",
    "                     capture_output=True )\n",
    "\n",
    "print('---Stdout---')\n",
    "print(res.stdout.decode())\n",
    "print('---Stderr---')\n",
    "print(res.stderr.decode())\n",
    "print('---Exit-Code---')\n",
    "print(res.returncode)"
   ]
  },
  {
   "cell_type": "markdown",
   "metadata": {},
   "source": [
    "Check it"
   ]
  },
  {
   "cell_type": "code",
   "execution_count": 38,
   "metadata": {},
   "outputs": [
    {
     "name": "stdout",
     "output_type": "stream",
     "text": [
      "---Stdout---\n",
      "true\n",
      "\n",
      "---Stderr---\n",
      "\n",
      "---Exit-Code---\n",
      "0\n"
     ]
    }
   ],
   "source": [
    "res = subprocess.run([\"../build/main\",\n",
    "                      \"revocation\",\n",
    "                      \"--rpcUrl\", \"http://localhost:7545\",\n",
    "                     \"--isRevoked\", \"did:ethr:0x0597c77c931955Ad5fac6014C7cd0090F4B85F33\",\n",
    "                     \"-r\" , \"0xbb63625b27Ba07939bb253C4fADeB0aEA056BD2F\"], \n",
    "                     capture_output=True )\n",
    "\n",
    "print('---Stdout---')\n",
    "print(res.stdout.decode())\n",
    "print('---Stderr---')\n",
    "print(res.stderr.decode())\n",
    "print('---Exit-Code---')\n",
    "print(res.returncode)"
   ]
  },
  {
   "cell_type": "markdown",
   "metadata": {},
   "source": [
    "## ERC1056"
   ]
  },
  {
   "cell_type": "code",
   "execution_count": 5,
   "metadata": {},
   "outputs": [
    {
     "name": "stdout",
     "output_type": "stream",
     "text": [
      "Interacting with an instance of erc1056 - Contract (EthereumDIDRegistry)\n",
      "\n",
      "Usage: main didRegistry [arguments]\n",
      "-h, --help               Print this usage information.\n",
      "    --rpcUrl             Url for RPC-Endpoint of Ethereum-Node\n",
      "                         (defaults to \"http://localhost:8545\")\n",
      "-e, --erc1056Contract    Contract address of ErC1056-Contract (EthereumDIDRegistry)\n",
      "-d, --did                The did to get identity information for / to change identity information for\n",
      "-n, --newDid             Did to rotate to\n",
      "-a, --[no-]getAddress    Get the current ethereum address or an identity\n",
      "-w, --wallet             Path to a Wallet the signing keys are in\n",
      "                         (defaults to \"ssi_wallet\")\n",
      "-p, --password           Password of the wallet\n",
      "\n",
      "Run \"main help\" to see global options.\n",
      "\n"
     ]
    }
   ],
   "source": [
    "res = subprocess.run(['../build/main', 'didRegistry', '--help'], capture_output=True)\n",
    "print(res.stdout.decode())"
   ]
  },
  {
   "cell_type": "markdown",
   "metadata": {},
   "source": [
    "get actuell eth-address to did"
   ]
  },
  {
   "cell_type": "code",
   "execution_count": 46,
   "metadata": {},
   "outputs": [
    {
     "name": "stdout",
     "output_type": "stream",
     "text": [
      "---Stdout---\n",
      "did:ethr:0xb3d0A3E8193cAA1E0f98ee69c8d4d8b4f8CFcCeF\n",
      "\n",
      "---Stderr---\n",
      "\n",
      "---Exit-Code---\n",
      "0\n"
     ]
    }
   ],
   "source": [
    "res = subprocess.run([\"../build/main\",\n",
    "                      \"didRegistry\",\n",
    "                      \"--rpcUrl\", \"http://localhost:7545\",\n",
    "                     \"-d\", \"did:ethr:0xb3d0A3E8193cAA1E0f98ee69c8d4d8b4f8CFcCeF\",\n",
    "                     \"-e\" , \"0x0eE301c92471234038E320153A7F650ab9a72e28\",\n",
    "                     \"-a\"], \n",
    "                     capture_output=True )\n",
    "\n",
    "print('---Stdout---')\n",
    "print(res.stdout.decode())\n",
    "print('---Stderr---')\n",
    "print(res.stderr.decode())\n",
    "print('---Exit-Code---')\n",
    "print(res.returncode)"
   ]
  },
  {
   "cell_type": "markdown",
   "metadata": {},
   "source": [
    "key rotation"
   ]
  },
  {
   "cell_type": "code",
   "execution_count": 47,
   "metadata": {},
   "outputs": [
    {
     "name": "stdout",
     "output_type": "stream",
     "text": [
      "---Stdout---\n",
      "Successfully changed did-owner\n",
      "\n",
      "---Stderr---\n",
      "\n",
      "---Exit-Code---\n",
      "0\n"
     ]
    }
   ],
   "source": [
    "res = subprocess.run([\"../build/main\",\n",
    "                      \"didRegistry\",\n",
    "                      \"--rpcUrl\", \"http://localhost:7545\",\n",
    "                     \"-d\", \"did:ethr:0xb3d0A3E8193cAA1E0f98ee69c8d4d8b4f8CFcCeF\",\n",
    "                     \"-e\" , \"0x0eE301c92471234038E320153A7F650ab9a72e28\",\n",
    "                     \"-n\", \"did:ethr:0x4c9656E42cd635Fe5023093E266701d96e7e304e\",\n",
    "                      \"-p\", \"password\",\n",
    "                      \"-w\", \"test/example_wallet\"], \n",
    "                     capture_output=True )\n",
    "\n",
    "print('---Stdout---')\n",
    "print(res.stdout.decode())\n",
    "print('---Stderr---')\n",
    "print(res.stderr.decode())\n",
    "print('---Exit-Code---')\n",
    "print(res.returncode)"
   ]
  },
  {
   "cell_type": "markdown",
   "metadata": {},
   "source": [
    "check it (same call as in input 46)"
   ]
  },
  {
   "cell_type": "code",
   "execution_count": 48,
   "metadata": {},
   "outputs": [
    {
     "name": "stdout",
     "output_type": "stream",
     "text": [
      "---Stdout---\n",
      "did:ethr:0x4c9656E42cd635Fe5023093E266701d96e7e304e\n",
      "\n",
      "---Stderr---\n",
      "\n",
      "---Exit-Code---\n",
      "0\n"
     ]
    }
   ],
   "source": [
    "res = subprocess.run([\"../build/main\",\n",
    "                      \"didRegistry\",\n",
    "                      \"--rpcUrl\", \"http://localhost:7545\",\n",
    "                     \"-d\", \"did:ethr:0xb3d0A3E8193cAA1E0f98ee69c8d4d8b4f8CFcCeF\",\n",
    "                     \"-e\" , \"0x0eE301c92471234038E320153A7F650ab9a72e28\",\n",
    "                     \"-a\"], \n",
    "                     capture_output=True )\n",
    "\n",
    "print('---Stdout---')\n",
    "print(res.stdout.decode())\n",
    "print('---Stderr---')\n",
    "print(res.stderr.decode())\n",
    "print('---Exit-Code---')\n",
    "print(res.returncode)"
   ]
  },
  {
   "cell_type": "markdown",
   "metadata": {},
   "source": [
    "## Signing strings and verify signature"
   ]
  },
  {
   "cell_type": "code",
   "execution_count": 2,
   "metadata": {},
   "outputs": [
    {
     "name": "stdout",
     "output_type": "stream",
     "text": [
      "Signs a given message-string and verifies signature at a message-string\n",
      "\n",
      "Usage: main messages [arguments]\n",
      "-h, --help               Print this usage information.\n",
      "-s, --[no-]sign          Sign a message\n",
      "-v, --[no-]verify        verify a signature\n",
      "-m, --message            the message to sign or to check the signature for\n",
      "    --signature          signature to check (as jws)\n",
      "    --did                The did that should be used to sign or the did expected to have signed\n",
      "-w, --wallet             Path to a Wallet the signing keys are in\n",
      "                         (defaults to \"ssi_wallet\")\n",
      "-p, --password           Password of the wallet\n",
      "    --rpcUrl             Url for RPC-Endpoint of Ethereum-Node\n",
      "                         (defaults to \"http://localhost:8545\")\n",
      "-e, --erc1056Contract    Contract address of Erc1056-Contract (EthereumDIDRegistry)\n",
      "-j, --jwsHeader          Custom jws-Header (json). alg value should be ES256K-R (only supported algorithm for now)\n",
      "\n",
      "Run \"main help\" to see global options.\n",
      "\n"
     ]
    }
   ],
   "source": [
    "res = subprocess.run(['../build/main', 'messages', '--help'], capture_output=True)\n",
    "print(res.stdout.decode())"
   ]
  },
  {
   "cell_type": "markdown",
   "metadata": {},
   "source": [
    "Sign"
   ]
  },
  {
   "cell_type": "code",
   "execution_count": 3,
   "metadata": {},
   "outputs": [
    {
     "name": "stdout",
     "output_type": "stream",
     "text": [
      "---Stdout---\n",
      "eyJhbGciOiJFUzI1NkstUiIsImI2NCI6ZmFsc2UsImNyaXQiOlsiYjY0Il19..mdveecp12Ka-PBr1neo4oXBkC5ayE8IRxgTUui7rWchWRsYDuPYT2wo3crOIljlys0kpMe5Rxn7-0vxWZdPYrwE=\n",
      "\n",
      "---Stderr---\n",
      "\n",
      "---Exit-Code---\n",
      "0\n"
     ]
    }
   ],
   "source": [
    "res = subprocess.run([\"../build/main\",\n",
    "                      \"messages\",\n",
    "                      \"-s\",\n",
    "                      \"-m\", \"test - Message\",\n",
    "                     \"--did\", \"did:ethr:0x4c9656E42cd635Fe5023093E266701d96e7e304e\",\n",
    "                      \"-p\", \"password\",\n",
    "                      \"-w\", \"test/example_wallet\"], \n",
    "                     capture_output=True )\n",
    "\n",
    "print('---Stdout---')\n",
    "print(res.stdout.decode())\n",
    "print('---Stderr---')\n",
    "print(res.stderr.decode())\n",
    "print('---Exit-Code---')\n",
    "print(res.returncode)"
   ]
  },
  {
   "cell_type": "markdown",
   "metadata": {},
   "source": [
    "verify"
   ]
  },
  {
   "cell_type": "code",
   "execution_count": 5,
   "metadata": {},
   "outputs": [
    {
     "name": "stdout",
     "output_type": "stream",
     "text": [
      "---Stdout---\n",
      "true\n",
      "\n",
      "---Stderr---\n",
      "\n",
      "---Exit-Code---\n",
      "0\n"
     ]
    }
   ],
   "source": [
    "res = subprocess.run([\"../build/main\",\n",
    "                      \"messages\",\n",
    "                      \"-v\",\n",
    "                      \"-m\", \"test - Message\",\n",
    "                     \"--did\", \"did:ethr:0x4c9656E42cd635Fe5023093E266701d96e7e304e\",\n",
    "                      \"--signature\", \"eyJhbGciOiJFUzI1NkstUiIsImI2NCI6ZmFsc2UsImNyaXQiOlsiYjY0Il19..mdveecp12Ka-PBr1neo4oXBkC5ayE8IRxgTUui7rWchWRsYDuPYT2wo3crOIljlys0kpMe5Rxn7-0vxWZdPYrwE=\",\n",
    "                      \"--rpcUrl\", \"http://localhost:7545\",\n",
    "                     \"-e\" , \"0x0eE301c92471234038E320153A7F650ab9a72e28\"], \n",
    "                     capture_output=True )\n",
    "\n",
    "print('---Stdout---')\n",
    "print(res.stdout.decode())\n",
    "print('---Stderr---')\n",
    "print(res.stderr.decode())\n",
    "print('---Exit-Code---')\n",
    "print(res.returncode)"
   ]
  },
  {
   "cell_type": "markdown",
   "metadata": {},
   "source": [
    "Sign with custom jws-header"
   ]
  },
  {
   "cell_type": "code",
   "execution_count": 8,
   "metadata": {},
   "outputs": [],
   "source": [
    "jws_header = {\"alg\" : \"ES256K-R\", \n",
    "              \"kid\" : \"did:ethr:0x4c9656E42cd635Fe5023093E266701d96e7e304e\", \n",
    "              \"b64\" : False, \n",
    "              \"critical\": [\"b64\"]}"
   ]
  },
  {
   "cell_type": "code",
   "execution_count": 10,
   "metadata": {},
   "outputs": [
    {
     "name": "stdout",
     "output_type": "stream",
     "text": [
      "---Stdout---\n",
      "eyJhbGciOiJFUzI1NkstUiIsImtpZCI6ImRpZDpldGhyOjB4NGM5NjU2RTQyY2Q2MzVGZTUwMjMwOTNFMjY2NzAxZDk2ZTdlMzA0ZSIsImI2NCI6ZmFsc2UsImNyaXRpY2FsIjpbImI2NCJdfQ==..ot4y9rOkghYf_SoEuCuD1NEF5ya0UcIaSDUm04WxhIA1crZ_RbSfNOu_wZgv7h3iW1g3ls3EqnZ6Y5sYUcLK4AE=\n",
      "\n",
      "---Stderr---\n",
      "\n",
      "---Exit-Code---\n",
      "0\n"
     ]
    }
   ],
   "source": [
    "res = subprocess.run([\"../build/main\",\n",
    "                      \"messages\",\n",
    "                      \"-s\",\n",
    "                      \"-m\", \"test - Message\",\n",
    "                     \"--did\", \"did:ethr:0x4c9656E42cd635Fe5023093E266701d96e7e304e\",\n",
    "                      \"-p\", \"password\",\n",
    "                      \"-w\", \"test/example_wallet\",\n",
    "                     \"-j\", json.dumps(jws_header)], \n",
    "                     capture_output=True )\n",
    "\n",
    "print('---Stdout---')\n",
    "print(res.stdout.decode())\n",
    "print('---Stderr---')\n",
    "print(res.stderr.decode())\n",
    "print('---Exit-Code---')\n",
    "print(res.returncode)"
   ]
  },
  {
   "cell_type": "code",
   "execution_count": 11,
   "metadata": {},
   "outputs": [
    {
     "name": "stdout",
     "output_type": "stream",
     "text": [
      "---Stdout---\n",
      "true\n",
      "\n",
      "---Stderr---\n",
      "\n",
      "---Exit-Code---\n",
      "0\n"
     ]
    }
   ],
   "source": [
    "res = subprocess.run([\"../build/main\",\n",
    "                      \"messages\",\n",
    "                      \"-v\",\n",
    "                      \"-m\", \"test - Message\",\n",
    "                     \"--did\", \"did:ethr:0x4c9656E42cd635Fe5023093E266701d96e7e304e\",\n",
    "                      \"--signature\", \"eyJhbGciOiJFUzI1NkstUiIsImtpZCI6ImRpZDpldGhyOjB4NGM5NjU2RTQyY2Q2MzVGZTUwMjMwOTNFMjY2NzAxZDk2ZTdlMzA0ZSIsImI2NCI6ZmFsc2UsImNyaXRpY2FsIjpbImI2NCJdfQ==..ot4y9rOkghYf_SoEuCuD1NEF5ya0UcIaSDUm04WxhIA1crZ_RbSfNOu_wZgv7h3iW1g3ls3EqnZ6Y5sYUcLK4AE=\",\n",
    "                      \"--rpcUrl\", \"http://localhost:7545\",\n",
    "                     \"-e\" , \"0x0eE301c92471234038E320153A7F650ab9a72e28\"], \n",
    "                     capture_output=True )\n",
    "\n",
    "print('---Stdout---')\n",
    "print(res.stdout.decode())\n",
    "print('---Stderr---')\n",
    "print(res.stderr.decode())\n",
    "print('---Exit-Code---')\n",
    "print(res.returncode)"
   ]
  }
 ],
 "metadata": {
  "kernelspec": {
   "display_name": "Python 3",
   "language": "python",
   "name": "python3"
  },
  "language_info": {
   "codemirror_mode": {
    "name": "ipython",
    "version": 3
   },
   "file_extension": ".py",
   "mimetype": "text/x-python",
   "name": "python",
   "nbconvert_exporter": "python",
   "pygments_lexer": "ipython3",
   "version": "3.8.5"
  }
 },
 "nbformat": 4,
 "nbformat_minor": 4
}
