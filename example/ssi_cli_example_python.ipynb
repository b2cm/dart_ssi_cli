{
 "cells": [
  {
   "cell_type": "markdown",
   "metadata": {},
   "source": [
    "# Example for SSI-CLI command verify\n",
    "\n",
    "This command could be used to check if signuatures (proof) of a verifiable Credential or verifiable presentation are correct."
   ]
  },
  {
   "cell_type": "code",
   "execution_count": 1,
   "metadata": {},
   "outputs": [],
   "source": [
    "import subprocess\n",
    "import json"
   ]
  },
  {
   "cell_type": "markdown",
   "metadata": {},
   "source": [
    "# Test Data"
   ]
  },
  {
   "cell_type": "code",
   "execution_count": 2,
   "metadata": {},
   "outputs": [],
   "source": [
    "signedCred1 = {\n",
    "  \"@context\": [\n",
    "    \"https://www.w3.org/2018/credentials/v1\"\n",
    "  ],\n",
    "  \"type\": [\n",
    "    \"VerifiableCredential\"\n",
    "  ],\n",
    "  \"credentialSubject\": {\n",
    "    \"id\": \"did:ethr:0x4d7EC6C217b5d3Ab7811C1932196Af3C5A489d64\",\n",
    "    \"type\": \"NameCredential\",\n",
    "    \"issuanceDate\": \"0x9a16cf1fec743db9afad5c503c4b275c4b7c1c50e0a91eff83534d24dba9f3d4\",\n",
    "    \"givenName\": \"0xbff7d1896062b42f83167e4e3b140af7a36af150d7f1c75fce4a2e3712306e8a\",\n",
    "    \"familyName\": \"0x623d091b5b9c6a3ac97a8bfec23f677b38105f79d5a2fb320b511d70555cc360\"\n",
    "  },\n",
    "  \"issuer\": \"did:ethr:0xCb139d22052749D2Fafc8406dD942453A10cD03D\",\n",
    "  \"issuanceDate\": \"2021-03-24T14:50:11.613723Z\",\n",
    "  \"credentialStatus\": {\n",
    "    \"id\": \"0x2D0bD2c91b4B011AA53207d96813b521E432F96C\",\n",
    "    \"type\": \"EthereumRevocationList\"\n",
    "  },\n",
    "  \"proof\": {\n",
    "    \"type\": \"EcdsaSecp256k1RecoverySignature2020\",\n",
    "    \"proofPurpose\": \"assertionMethod\",\n",
    "    \"verificationMethod\": \"did:ethr:0xCb139d22052749D2Fafc8406dD942453A10cD03D\",\n",
    "    \"created\": \"2021-03-24T14:50:11.615724Z\",\n",
    "    \"jws\": \"eyJhbGciOiJFUzI1NkstUiIsImI2NCI6ZmFsc2UsImNyaXQiOlsiYjY0Il19..ZguE1rqSOiij3GUC3LPQY3J6p2Ycz/xxbkALG90bLphUqd5cgiblSOtodylnNH14BrTDbwJH63BUy7iz49nMoQE=\"\n",
    "  }\n",
    "}"
   ]
  },
  {
   "cell_type": "code",
   "execution_count": 3,
   "metadata": {},
   "outputs": [],
   "source": [
    "signedCred2 = {\n",
    "  \"@context\": [\n",
    "    \"https://www.w3.org/2018/credentials/v1\"\n",
    "  ],\n",
    "  \"type\": [\n",
    "    \"VerifiableCredential\"\n",
    "  ],\n",
    "  \"credentialSubject\": {\n",
    "    \"id\": \"did:ethr:0x681eb9E865AA9A92BA1A7822FcF82039aE53A598\",\n",
    "    \"type\": \"NameCredential\",\n",
    "    \"issuanceDate\": \"0x13911f4efed0d6234700d0dd08a512caaa994059ebdf16220505a6825f74658d\",\n",
    "    \"allowedVehicleCategories\": [\n",
    "      \"0x42b457977dee8ca0c820e4b48a462a1af4a863d0c186f7cfccd4b16bd80e5df7\",\n",
    "      \"0xa41ea86f6ccd380fc0df9b284e8106b1eb555db22172aafc56fd58066a4a5565\"\n",
    "    ]\n",
    "  },\n",
    "  \"issuer\": \"did:ethr:0xCb139d22052749D2Fafc8406dD942453A10cD03D\",\n",
    "  \"issuanceDate\": \"2021-03-24T14:50:11.614389Z\",\n",
    "  \"credentialStatus\": {\n",
    "    \"id\": \"0x2D0bD2c91b4B011AA53207d96813b521E432F96C\",\n",
    "    \"type\": \"EthereumRevocationList\"\n",
    "  },\n",
    "  \"proof\": {\n",
    "    \"type\": \"EcdsaSecp256k1RecoverySignature2020\",\n",
    "    \"proofPurpose\": \"assertionMethod\",\n",
    "    \"verificationMethod\": \"did:ethr:0xCb139d22052749D2Fafc8406dD942453A10cD03D\",\n",
    "    \"created\": \"2021-03-24T14:50:11.693148Z\",\n",
    "    \"jws\": \"eyJhbGciOiJFUzI1NkstUiIsImI2NCI6ZmFsc2UsImNyaXQiOlsiYjY0Il19..j+Cytt8agnXGDiSbV9aHMKgjDnkpnXtAz3w12GQrmhck+fRC8CTW/98wgDy0qDPppv1Jokp2EcHZhyAp5rroKAE=\"\n",
    "  }\n",
    "}"
   ]
  },
  {
   "cell_type": "code",
   "execution_count": 4,
   "metadata": {},
   "outputs": [],
   "source": [
    " signedPresentation1 = {\n",
    "  \"@context\": [\n",
    "    \"https://www.w3.org/2018/credentials/v1\"\n",
    "  ],\n",
    "  \"type\": [\n",
    "    \"VerifiablePresentation\"\n",
    "  ],\n",
    "  \"verifiableCredential\": [\n",
    "    {\n",
    "      \"@context\": [\n",
    "        \"https://www.w3.org/2018/credentials/v1\"\n",
    "      ],\n",
    "      \"type\": [\n",
    "        \"VerifiableCredential\"\n",
    "      ],\n",
    "      \"credentialSubject\": {\n",
    "        \"id\": \"did:ethr:0x4d7EC6C217b5d3Ab7811C1932196Af3C5A489d64\",\n",
    "        \"type\": \"NameCredential\",\n",
    "        \"issuanceDate\": \"0x9a16cf1fec743db9afad5c503c4b275c4b7c1c50e0a91eff83534d24dba9f3d4\",\n",
    "        \"givenName\": \"0xbff7d1896062b42f83167e4e3b140af7a36af150d7f1c75fce4a2e3712306e8a\",\n",
    "        \"familyName\": \"0x623d091b5b9c6a3ac97a8bfec23f677b38105f79d5a2fb320b511d70555cc360\"\n",
    "      },\n",
    "      \"issuer\": \"did:ethr:0xCb139d22052749D2Fafc8406dD942453A10cD03D\",\n",
    "      \"issuanceDate\": \"2021-03-24T14:50:11.613723Z\",\n",
    "      \"credentialStatus\": {\n",
    "        \"id\": \"0x2D0bD2c91b4B011AA53207d96813b521E432F96C\",\n",
    "        \"type\": \"EthereumRevocationList\"\n",
    "      },\n",
    "      \"proof\": {\n",
    "        \"type\": \"EcdsaSecp256k1RecoverySignature2020\",\n",
    "        \"proofPurpose\": \"assertionMethod\",\n",
    "        \"verificationMethod\": \"did:ethr:0xCb139d22052749D2Fafc8406dD942453A10cD03D\",\n",
    "        \"created\": \"2021-03-24T14:50:11.615724Z\",\n",
    "        \"jws\": \"eyJhbGciOiJFUzI1NkstUiIsImI2NCI6ZmFsc2UsImNyaXQiOlsiYjY0Il19..ZguE1rqSOiij3GUC3LPQY3J6p2Ycz/xxbkALG90bLphUqd5cgiblSOtodylnNH14BrTDbwJH63BUy7iz49nMoQE=\"\n",
    "      }\n",
    "    }\n",
    "  ],\n",
    "  \"proof\": [\n",
    "    {\n",
    "      \"type\": \"EcdsaSecp256k1RecoverySignature2020\",\n",
    "      \"proofPurpose\": \"assertionMethod\",\n",
    "      \"verificationMethod\": \"did:ethr:0x4d7EC6C217b5d3Ab7811C1932196Af3C5A489d64\",\n",
    "      \"created\": \"2021-03-24T14:50:11.975172Z\",\n",
    "      \"challenge\": \"271affd7-1aaa-4bc3-9a40-194e55c4bae5\",\n",
    "      \"jws\": \"eyJhbGciOiJFUzI1NkstUiIsImI2NCI6ZmFsc2UsImNyaXQiOlsiYjY0Il19..x15XWkeMcpzmkfQQ304pADOQEAI7c+pPYGgzz8IxoMNNKzghrJtwSWNYDouLTJ40DXMTmsq4iI0/MsbFTC25YgA=\"\n",
    "    }\n",
    "  ]\n",
    "}"
   ]
  },
  {
   "cell_type": "code",
   "execution_count": 5,
   "metadata": {},
   "outputs": [],
   "source": [
    "signedPresentation2 = {\n",
    "  \"@context\": [\n",
    "    \"https://www.w3.org/2018/credentials/v1\"\n",
    "  ],\n",
    "  \"type\": [\n",
    "    \"VerifiablePresentation\"\n",
    "  ],\n",
    "  \"verifiableCredential\": [\n",
    "    {\n",
    "      \"@context\": [\n",
    "        \"https://www.w3.org/2018/credentials/v1\"\n",
    "      ],\n",
    "      \"type\": [\n",
    "        \"VerifiableCredential\"\n",
    "      ],\n",
    "      \"credentialSubject\": {\n",
    "        \"id\": \"did:ethr:0x4d7EC6C217b5d3Ab7811C1932196Af3C5A489d64\",\n",
    "        \"type\": \"NameCredential\",\n",
    "        \"issuanceDate\": \"0x9a16cf1fec743db9afad5c503c4b275c4b7c1c50e0a91eff83534d24dba9f3d4\",\n",
    "        \"givenName\": \"0xbff7d1896062b42f83167e4e3b140af7a36af150d7f1c75fce4a2e3712306e8a\",\n",
    "        \"familyName\": \"0x623d091b5b9c6a3ac97a8bfec23f677b38105f79d5a2fb320b511d70555cc360\"\n",
    "      },\n",
    "      \"issuer\": \"did:ethr:0xCb139d22052749D2Fafc8406dD942453A10cD03D\",\n",
    "      \"issuanceDate\": \"2021-03-24T14:50:11.613723Z\",\n",
    "      \"credentialStatus\": {\n",
    "        \"id\": \"0x2D0bD2c91b4B011AA53207d96813b521E432F96C\",\n",
    "        \"type\": \"EthereumRevocationList\"\n",
    "      },\n",
    "      \"proof\": {\n",
    "        \"type\": \"EcdsaSecp256k1RecoverySignature2020\",\n",
    "        \"proofPurpose\": \"assertionMethod\",\n",
    "        \"verificationMethod\": \"did:ethr:0xCb139d22052749D2Fafc8406dD942453A10cD03D\",\n",
    "        \"created\": \"2021-03-24T14:50:11.615724Z\",\n",
    "        \"jws\": \"eyJhbGciOiJFUzI1NkstUiIsImI2NCI6ZmFsc2UsImNyaXQiOlsiYjY0Il19..ZguE1rqSOiij3GUC3LPQY3J6p2Ycz/xxbkALG90bLphUqd5cgiblSOtodylnNH14BrTDbwJH63BUy7iz49nMoQE=\"\n",
    "      }\n",
    "    },\n",
    "    {\n",
    "      \"@context\": [\n",
    "        \"https://www.w3.org/2018/credentials/v1\"\n",
    "      ],\n",
    "      \"type\": [\n",
    "        \"VerifiableCredential\"\n",
    "      ],\n",
    "      \"credentialSubject\": {\n",
    "        \"id\": \"did:ethr:0x681eb9E865AA9A92BA1A7822FcF82039aE53A598\",\n",
    "        \"type\": \"NameCredential\",\n",
    "        \"issuanceDate\": \"0x13911f4efed0d6234700d0dd08a512caaa994059ebdf16220505a6825f74658d\",\n",
    "        \"allowedVehicleCategories\": [\n",
    "          \"0x42b457977dee8ca0c820e4b48a462a1af4a863d0c186f7cfccd4b16bd80e5df7\",\n",
    "          \"0xa41ea86f6ccd380fc0df9b284e8106b1eb555db22172aafc56fd58066a4a5565\"\n",
    "        ]\n",
    "      },\n",
    "      \"issuer\": \"did:ethr:0xCb139d22052749D2Fafc8406dD942453A10cD03D\",\n",
    "      \"issuanceDate\": \"2021-03-24T14:50:11.614389Z\",\n",
    "      \"credentialStatus\": {\n",
    "        \"id\": \"0x2D0bD2c91b4B011AA53207d96813b521E432F96C\",\n",
    "        \"type\": \"EthereumRevocationList\"\n",
    "      },\n",
    "      \"proof\": {\n",
    "        \"type\": \"EcdsaSecp256k1RecoverySignature2020\",\n",
    "        \"proofPurpose\": \"assertionMethod\",\n",
    "        \"verificationMethod\": \"did:ethr:0xCb139d22052749D2Fafc8406dD942453A10cD03D\",\n",
    "        \"created\": \"2021-03-24T14:50:11.693148Z\",\n",
    "        \"jws\": \"eyJhbGciOiJFUzI1NkstUiIsImI2NCI6ZmFsc2UsImNyaXQiOlsiYjY0Il19..j+Cytt8agnXGDiSbV9aHMKgjDnkpnXtAz3w12GQrmhck+fRC8CTW/98wgDy0qDPppv1Jokp2EcHZhyAp5rroKAE=\"\n",
    "      }\n",
    "    }\n",
    "  ],\n",
    "  \"proof\": [\n",
    "    {\n",
    "      \"type\": \"EcdsaSecp256k1RecoverySignature2020\",\n",
    "      \"proofPurpose\": \"assertionMethod\",\n",
    "      \"verificationMethod\": \"did:ethr:0x4d7EC6C217b5d3Ab7811C1932196Af3C5A489d64\",\n",
    "      \"created\": \"2021-03-24T14:50:12.031263Z\",\n",
    "      \"challenge\": \"0aa85d36-f997-4afd-a723-31b39191e67d\",\n",
    "      \"jws\": \"eyJhbGciOiJFUzI1NkstUiIsImI2NCI6ZmFsc2UsImNyaXQiOlsiYjY0Il19..5ktOxYHBqR1NNSYv3xQI/Sl4KvFtULjwY4J7f7ldpOw3p7xEej3pJ30HtL8fOrnQYD31twXZcJQ4/X5UvnKO7wA=\"\n",
    "    },\n",
    "    {\n",
    "      \"type\": \"EcdsaSecp256k1RecoverySignature2020\",\n",
    "      \"proofPurpose\": \"assertionMethod\",\n",
    "      \"verificationMethod\": \"did:ethr:0x681eb9E865AA9A92BA1A7822FcF82039aE53A598\",\n",
    "      \"created\": \"2021-03-24T14:50:12.086686Z\",\n",
    "      \"challenge\": \"0aa85d36-f997-4afd-a723-31b39191e67d\",\n",
    "      \"jws\": \"eyJhbGciOiJFUzI1NkstUiIsImI2NCI6ZmFsc2UsImNyaXQiOlsiYjY0Il19../xFGNJXDe+gbuYHKOCtaCtabhsg45C4I/mNCSxkz9E1YNGOfv9pQWhhikFanPhEmtfmAh28yQnaItj0u6XoD2AA=\"\n",
    "    }\n",
    "  ]\n",
    "}"
   ]
  },
  {
   "cell_type": "code",
   "execution_count": 6,
   "metadata": {},
   "outputs": [],
   "source": [
    "disclosedCred1 = {\n",
    "  \"id\": \"did:ethr:0x4d7EC6C217b5d3Ab7811C1932196Af3C5A489d64\",\n",
    "  \"type\": \"NameCredential\",\n",
    "  \"issuanceDate\": {\n",
    "    \"value\": \"2021-03-24\",\n",
    "    \"salt\": \"d7db8ce9-8acc-49ff-9601-a90b496a164c\",\n",
    "    \"hash\": \"0x9a16cf1fec743db9afad5c503c4b275c4b7c1c50e0a91eff83534d24dba9f3d4\"\n",
    "  },\n",
    "  \"givenName\": {\n",
    "    \"value\": \"Max\",\n",
    "    \"salt\": \"9dc435b6-be74-4896-b2d0-b6f0cef98379\",\n",
    "    \"hash\": \"0xbff7d1896062b42f83167e4e3b140af7a36af150d7f1c75fce4a2e3712306e8a\"\n",
    "  },\n",
    "  \"familyName\": {\n",
    "    \"hash\": \"0x623d091b5b9c6a3ac97a8bfec23f677b38105f79d5a2fb320b511d70555cc360\"\n",
    "  }\n",
    "}"
   ]
  },
  {
   "cell_type": "code",
   "execution_count": 7,
   "metadata": {},
   "outputs": [],
   "source": [
    "disclosedCred2 = {\n",
    "  \"id\": \"did:ethr:0x681eb9E865AA9A92BA1A7822FcF82039aE53A598\",\n",
    "  \"type\": \"NameCredential\",\n",
    "  \"issuanceDate\": {\n",
    "    \"value\": \"2021-03-24\",\n",
    "    \"salt\": \"7cb71139-aaa4-43b0-98ec-c2e42d66ba8a\",\n",
    "    \"hash\": \"0x13911f4efed0d6234700d0dd08a512caaa994059ebdf16220505a6825f74658d\"\n",
    "  },\n",
    "  \"allowedVehicleCategories\": [\n",
    "    {\n",
    "      \"value\": \"A\",\n",
    "      \"salt\": \"2b358bd1-10ee-4459-9271-32abdd7db86d\",\n",
    "      \"hash\": \"0x42b457977dee8ca0c820e4b48a462a1af4a863d0c186f7cfccd4b16bd80e5df7\"\n",
    "    },\n",
    "    {\n",
    "      \"value\": \"B\",\n",
    "      \"salt\": \"978fc5b6-254d-4a07-b77f-2984d2365e2f\",\n",
    "      \"hash\": \"0xa41ea86f6ccd380fc0df9b284e8106b1eb555db22172aafc56fd58066a4a5565\"\n",
    "    }\n",
    "  ]\n",
    "}"
   ]
  },
  {
   "cell_type": "code",
   "execution_count": 8,
   "metadata": {},
   "outputs": [],
   "source": [
    "challenge1 = '271affd7-1aaa-4bc3-9a40-194e55c4bae5'\n",
    "challenge2 = '0aa85d36-f997-4afd-a723-31b39191e67d'"
   ]
  },
  {
   "cell_type": "markdown",
   "metadata": {},
   "source": [
    "# Command Help"
   ]
  },
  {
   "cell_type": "code",
   "execution_count": 9,
   "metadata": {},
   "outputs": [
    {
     "name": "stdout",
     "output_type": "stream",
     "text": [
      "Verifying credentials and presentations\n",
      "\n",
      "Usage: main verify [arguments]\n",
      "-h, --help                       Print this usage information.\n",
      "    --rpcUrl                     Url for RPC-Endpoint of Ethereum-Node\n",
      "                                 (defaults to \"http://localhost:8545\")\n",
      "-r, --[no-]checkForRevocation    Indicates if the revocation status of credentials should be checked\n",
      "-e, --erc1056Contract            Contract address of ErC1056-Contract (EthereumDIDRegistry)\n",
      "-c, --challenge                  Expected challenge in a presentation. Therefor this option is only needed if you check a presentation.\n",
      "-p, --plaintextCredential        The (disclosed) plaintext credentials. Multiple plaintext credentials allowed, but use -p every time; separating by comma wont work.\n",
      "-s, --signedJson                 The signed json-object (credential or presentation) to check\n",
      "\n",
      "Run \"main help\" to see global options.\n",
      "\n"
     ]
    }
   ],
   "source": [
    "res = subprocess.run(['../build/main', 'verify', '--help'], capture_output=True)\n",
    "print(res.stdout.decode())"
   ]
  },
  {
   "cell_type": "markdown",
   "metadata": {},
   "source": [
    "# Positive Examples\n",
    "- no error output\n",
    "- exit-code = 0"
   ]
  },
  {
   "cell_type": "markdown",
   "metadata": {},
   "source": [
    "Verify, if a credential has correct signature. No check for revocation. No comparision with (disclosed) plaintext Credential."
   ]
  },
  {
   "cell_type": "code",
   "execution_count": 10,
   "metadata": {},
   "outputs": [
    {
     "name": "stdout",
     "output_type": "stream",
     "text": [
      "---Stdout---\n",
      "Signature Check: true\n",
      "\n",
      "---Stderr---\n",
      "\n",
      "---Exit-Code---\n",
      "0\n"
     ]
    }
   ],
   "source": [
    "res = subprocess.run([\"../build/main\",\n",
    "                      \"verify\", \n",
    "                      '-s', json.dumps(signedCred1), \n",
    "                      '-e0x0eE301c92471234038E320153A7F650ab9a72e28',\n",
    "                      '--rpcUrl', 'http://localhost:7545'], \n",
    "                     capture_output=True )\n",
    "\n",
    "print('---Stdout---')\n",
    "print(res.stdout.decode())\n",
    "print('---Stderr---')\n",
    "print(res.stderr.decode())\n",
    "print('---Exit-Code---')\n",
    "print(res.returncode)"
   ]
  },
  {
   "cell_type": "markdown",
   "metadata": {},
   "source": [
    "Verify, if a credential has correct signature. With check for revocation and comparision with (disclosed) plaintext Credential."
   ]
  },
  {
   "cell_type": "code",
   "execution_count": 11,
   "metadata": {},
   "outputs": [
    {
     "name": "stdout",
     "output_type": "stream",
     "text": [
      "---Stdout---\n",
      "Signature Check: true\n",
      "Comparision: true\n",
      "\n",
      "---Stderr---\n",
      "\n",
      "---Exit-Code---\n",
      "0\n"
     ]
    }
   ],
   "source": [
    "res = subprocess.run([\"../build/main\",\n",
    "                      \"verify\", \n",
    "                      '-s', json.dumps(signedCred2), \n",
    "                      '-e0x0eE301c92471234038E320153A7F650ab9a72e28',\n",
    "                      '--rpcUrl', 'http://localhost:7545', \n",
    "                      '-r', \n",
    "                      '-p', json.dumps(disclosedCred2)], \n",
    "                     capture_output=True )\n",
    "\n",
    "print('---Stdout---')\n",
    "print(res.stdout.decode())\n",
    "print('---Stderr---')\n",
    "print(res.stderr.decode())\n",
    "print('---Exit-Code---')\n",
    "print(res.returncode)"
   ]
  },
  {
   "cell_type": "markdown",
   "metadata": {},
   "source": [
    "Verify, if a presentation with one credential. With Check for Credential revocation and comparision with (disclosed) plaintext credential."
   ]
  },
  {
   "cell_type": "code",
   "execution_count": 12,
   "metadata": {},
   "outputs": [
    {
     "name": "stdout",
     "output_type": "stream",
     "text": [
      "---Stdout---\n",
      "Signature Check: true\n",
      "Comparision: true\n",
      "\n",
      "---Stderr---\n",
      "\n",
      "---Exit-Code---\n",
      "0\n"
     ]
    }
   ],
   "source": [
    "res = subprocess.run([\"../build/main\",\n",
    "                      \"verify\", \n",
    "                      '-s', json.dumps(signedPresentation1), \n",
    "                      '-e0x0eE301c92471234038E320153A7F650ab9a72e28',\n",
    "                      '--rpcUrl', 'http://localhost:7545', \n",
    "                      '-r', \n",
    "                      '-p', json.dumps(disclosedCred1), \n",
    "                      '-c', challenge1], \n",
    "                     capture_output=True )\n",
    "\n",
    "print('---Stdout---')\n",
    "print(res.stdout.decode())\n",
    "print('---Stderr---')\n",
    "print(res.stderr.decode())\n",
    "print('---Exit-Code---')\n",
    "print(res.returncode)"
   ]
  },
  {
   "cell_type": "markdown",
   "metadata": {},
   "source": [
    "Verify, if a presentation with two credentials. With Check for Credential revocation and comparision with (disclosed) plaintext credentials. Add -p for every plaintext credential you would like to compare; separating them by comma would not work!"
   ]
  },
  {
   "cell_type": "code",
   "execution_count": 13,
   "metadata": {},
   "outputs": [
    {
     "name": "stdout",
     "output_type": "stream",
     "text": [
      "---Stdout---\n",
      "Signature Check: true\n",
      "Comparision: true\n",
      "\n",
      "---Stderr---\n",
      "\n",
      "---Exit-Code---\n",
      "0\n"
     ]
    }
   ],
   "source": [
    "res = subprocess.run([\"../build/main\",\n",
    "                      \"verify\", \n",
    "                      '-s', json.dumps(signedPresentation2), \n",
    "                      '-e0x0eE301c92471234038E320153A7F650ab9a72e28',\n",
    "                      '--rpcUrl', 'http://localhost:7545', \n",
    "                      '-r', \n",
    "                      '-p', json.dumps(disclosedCred1), \n",
    "                      '-p', json.dumps(disclosedCred2),\n",
    "                      '-c', challenge2], \n",
    "                     capture_output=True )\n",
    "\n",
    "print('---Stdout---')\n",
    "print(res.stdout.decode())\n",
    "print('---Stderr---')\n",
    "print(res.stderr.decode())\n",
    "print('---Exit-Code---')\n",
    "print(res.returncode)"
   ]
  },
  {
   "cell_type": "markdown",
   "metadata": {},
   "source": [
    "# Negative Examples\n",
    "- exit-code = 2"
   ]
  },
  {
   "cell_type": "markdown",
   "metadata": {},
   "source": [
    "ERC1056 contract address missing"
   ]
  },
  {
   "cell_type": "code",
   "execution_count": 14,
   "metadata": {},
   "outputs": [
    {
     "name": "stdout",
     "output_type": "stream",
     "text": [
      "---Stdout---\n",
      "\n",
      "---Stderr---\n",
      "Contract address for ERC1056 Contract missing\n",
      "\n",
      "---Exit-Code---\n",
      "2\n"
     ]
    }
   ],
   "source": [
    "res = subprocess.run([\"../build/main\",\n",
    "                      \"verify\", \n",
    "                      '-s', json.dumps(signedPresentation2), \n",
    "                      '--rpcUrl', 'http://localhost:7545', \n",
    "                      '-r', \n",
    "                      '-p', json.dumps(disclosedCred1), \n",
    "                      '-c', challenge2], \n",
    "                     capture_output=True )\n",
    "\n",
    "print('---Stdout---')\n",
    "print(res.stdout.decode())\n",
    "print('---Stderr---')\n",
    "print(res.stderr.decode())\n",
    "print('---Exit-Code---')\n",
    "print(res.returncode)"
   ]
  },
  {
   "cell_type": "markdown",
   "metadata": {},
   "source": [
    "Wrong RPCUrl"
   ]
  },
  {
   "cell_type": "code",
   "execution_count": 15,
   "metadata": {},
   "outputs": [
    {
     "name": "stdout",
     "output_type": "stream",
     "text": [
      "---Stdout---\n",
      "\n",
      "---Stderr---\n",
      "SocketException: OS Error: Connection refused, errno = 111, address = localhost, port = 46378\n",
      "\n",
      "---Exit-Code---\n",
      "2\n"
     ]
    }
   ],
   "source": [
    "res = subprocess.run([\"../build/main\",\n",
    "                      \"verify\", \n",
    "                      '-s', json.dumps(signedPresentation2), \n",
    "                      '-e0x0eE301c92471234038E320153A7F650ab9a72e28', \n",
    "                      '-r', \n",
    "                      '-p', json.dumps(disclosedCred1), \n",
    "                      '-p', json.dumps(disclosedCred2),\n",
    "                      '-c', challenge2], \n",
    "                     capture_output=True )\n",
    "\n",
    "print('---Stdout---')\n",
    "print(res.stdout.decode())\n",
    "print('---Stderr---')\n",
    "print(res.stderr.decode())\n",
    "print('---Exit-Code---')\n",
    "print(res.returncode)"
   ]
  },
  {
   "cell_type": "markdown",
   "metadata": {},
   "source": [
    "No json-object for checking given."
   ]
  },
  {
   "cell_type": "code",
   "execution_count": 16,
   "metadata": {},
   "outputs": [
    {
     "name": "stdout",
     "output_type": "stream",
     "text": [
      "---Stdout---\n",
      "\n",
      "---Stderr---\n",
      "Checkable json-object missing\n",
      "\n",
      "---Exit-Code---\n",
      "2\n"
     ]
    }
   ],
   "source": [
    "res = subprocess.run([\"../build/main\",\n",
    "                      \"verify\",  \n",
    "                      '-e0x0eE301c92471234038E320153A7F650ab9a72e28',\n",
    "                      '--rpcUrl', 'http://localhost:7545', \n",
    "                      '-r', \n",
    "                      '-p', json.dumps(disclosedCred1), \n",
    "                      '-p', json.dumps(disclosedCred2),\n",
    "                      '-c', challenge1], \n",
    "                     capture_output=True )\n",
    "\n",
    "print('---Stdout---')\n",
    "print(res.stdout.decode())\n",
    "print('---Stderr---')\n",
    "print(res.stderr.decode())\n",
    "print('---Exit-Code---')\n",
    "print(res.returncode)"
   ]
  },
  {
   "cell_type": "markdown",
   "metadata": {},
   "source": [
    "Challenge is wrong"
   ]
  },
  {
   "cell_type": "code",
   "execution_count": 17,
   "metadata": {},
   "outputs": [
    {
     "name": "stdout",
     "output_type": "stream",
     "text": [
      "---Stdout---\n",
      "\n",
      "---Stderr---\n",
      "Exception: Challenge does not match\n",
      "\n",
      "---Exit-Code---\n",
      "2\n"
     ]
    }
   ],
   "source": [
    "res = subprocess.run([\"../build/main\",\n",
    "                      \"verify\", \n",
    "                      '-s', json.dumps(signedPresentation2), \n",
    "                      '-e0x0eE301c92471234038E320153A7F650ab9a72e28',\n",
    "                      '--rpcUrl', 'http://localhost:7545', \n",
    "                      '-r', \n",
    "                      '-p', json.dumps(disclosedCred1), \n",
    "                      '-p', json.dumps(disclosedCred2),\n",
    "                      '-c', challenge1], \n",
    "                     capture_output=True )\n",
    "\n",
    "print('---Stdout---')\n",
    "print(res.stdout.decode())\n",
    "print('---Stderr---')\n",
    "print(res.stderr.decode())\n",
    "print('---Exit-Code---')\n",
    "print(res.returncode)"
   ]
  },
  {
   "cell_type": "markdown",
   "metadata": {},
   "source": [
    "Plaintext Credential does not match."
   ]
  },
  {
   "cell_type": "code",
   "execution_count": 18,
   "metadata": {},
   "outputs": [],
   "source": [
    "disclosedCred1Manipulated = {\n",
    "  \"id\": \"did:ethr:0x4d7EC6C217b5d3Ab7811C1932196Af3C5A489d64\",\n",
    "  \"type\": \"NameCredential\",\n",
    "  \"issuanceDate\": {\n",
    "    \"value\": \"2021-03-24\",\n",
    "    \"salt\": \"d7db8ce9-8acc-49ff-9601-a90b496a164c\",\n",
    "    \"hash\": \"0x9a16cf1fec743db9afad5c503c4b275c4b7c1c50e0a91eff83534d24dba9f3d4\"\n",
    "  },\n",
    "  \"givenName\": {\n",
    "    \"value\": \"Tina\",\n",
    "    \"salt\": \"9dc435b6-be74-4896-b2d0-b6f0cef98379\",\n",
    "    \"hash\": \"0xbff7d1896062b42f83167e4e3b140af7a36af150d7f1c75fce4a2e3712306e8a\"\n",
    "  },\n",
    "  \"familyName\": {\n",
    "    \"hash\": \"0x623d091b5b9c6a3ac97a8bfec23f677b38105f79d5a2fb320b511d70555cc360\"\n",
    "  }\n",
    "}"
   ]
  },
  {
   "cell_type": "code",
   "execution_count": 19,
   "metadata": {},
   "outputs": [
    {
     "name": "stdout",
     "output_type": "stream",
     "text": [
      "---Stdout---\n",
      "\n",
      "---Stderr---\n",
      "Problem in credential with id did:ethr:0x4d7EC6C217b5d3Ab7811C1932196Af3C5A489d64 : Exception: Given hash and calculated hash do ot match at givenName\n",
      "\n",
      "---Exit-Code---\n",
      "2\n"
     ]
    }
   ],
   "source": [
    "res = subprocess.run([\"../build/main\",\n",
    "                      \"verify\", \n",
    "                      '-s', json.dumps(signedPresentation1), \n",
    "                      '-e0x0eE301c92471234038E320153A7F650ab9a72e28',\n",
    "                      '--rpcUrl', 'http://localhost:7545', \n",
    "                      '-r', \n",
    "                      '-p', json.dumps(disclosedCred1Manipulated), \n",
    "                      '-c', challenge1], \n",
    "                     capture_output=True )\n",
    "\n",
    "print('---Stdout---')\n",
    "print(res.stdout.decode())\n",
    "print('---Stderr---')\n",
    "print(res.stderr.decode())\n",
    "print('---Exit-Code---')\n",
    "print(res.returncode)"
   ]
  },
  {
   "cell_type": "markdown",
   "metadata": {},
   "source": [
    "Signature is wrong (Credential was manipulated/Signature itself was manipulated)."
   ]
  },
  {
   "cell_type": "code",
   "execution_count": 20,
   "metadata": {},
   "outputs": [],
   "source": [
    "signedCred1Manipulated = {\n",
    "  \"@context\": [\n",
    "    \"https://www.w3.org/2018/credentials/v1\"\n",
    "  ],\n",
    "  \"type\": [\n",
    "    \"VerifiableCredential\"\n",
    "  ],\n",
    "  \"credentialSubject\": {\n",
    "    \"id\": \"did:ethr:0x4d7EC6C217b5d3Ab7811C1932196Af3C5A489d64\",\n",
    "    \"type\": \"NameCredential\",\n",
    "    \"issuanceDate\": \"0x1234\",\n",
    "    \"givenName\": \"0xbff7d1896062b42f83167e4e3b140af7a36af150d7f1c75fce4a2e3712306e8a\",\n",
    "    \"familyName\": \"0x623d091b5b9c6a3ac97a8bfec23f677b38105f79d5a2fb320b511d70555cc360\"\n",
    "  },\n",
    "  \"issuer\": \"did:ethr:0xCb139d22052749D2Fafc8406dD942453A10cD03D\",\n",
    "  \"issuanceDate\": \"2021-03-24T14:50:11.613723Z\",\n",
    "  \"credentialStatus\": {\n",
    "    \"id\": \"0x2D0bD2c91b4B011AA53207d96813b521E432F96C\",\n",
    "    \"type\": \"EthereumRevocationList\"\n",
    "  },\n",
    "  \"proof\": {\n",
    "    \"type\": \"EcdsaSecp256k1RecoverySignature2020\",\n",
    "    \"proofPurpose\": \"assertionMethod\",\n",
    "    \"verificationMethod\": \"did:ethr:0xCb139d22052749D2Fafc8406dD942453A10cD03D\",\n",
    "    \"created\": \"2021-03-24T14:50:11.615724Z\",\n",
    "    \"jws\": \"eyJhbGciOiJFUzI1NkstUiIsImI2NCI6ZmFsc2UsImNyaXQiOlsiYjY0Il19..ZguE1rqSOiij3GUC3LPQY3J6p2Ycz/xxbkALG90bLphUqd5cgiblSOtodylnNH14BrTDbwJH63BUy7iz49nMoQE=\"\n",
    "  }\n",
    "}"
   ]
  },
  {
   "cell_type": "code",
   "execution_count": 21,
   "metadata": {},
   "outputs": [
    {
     "name": "stdout",
     "output_type": "stream",
     "text": [
      "---Stdout---\n",
      "Signature Check: false\n",
      "\n",
      "---Stderr---\n",
      "\n",
      "---Exit-Code---\n",
      "2\n"
     ]
    }
   ],
   "source": [
    "res = subprocess.run([\"../build/main\",\n",
    "                      \"verify\", \n",
    "                      '-s', json.dumps(signedCred1Manipulated), \n",
    "                      '-e0x0eE301c92471234038E320153A7F650ab9a72e28',\n",
    "                      '--rpcUrl', 'http://localhost:7545'], \n",
    "                     capture_output=True )\n",
    "\n",
    "print('---Stdout---')\n",
    "print(res.stdout.decode())\n",
    "print('---Stderr---')\n",
    "print(res.stderr.decode())\n",
    "print('---Exit-Code---')\n",
    "print(res.returncode)"
   ]
  }
 ],
 "metadata": {
  "kernelspec": {
   "display_name": "Python 3",
   "language": "python",
   "name": "python3"
  },
  "language_info": {
   "codemirror_mode": {
    "name": "ipython",
    "version": 3
   },
   "file_extension": ".py",
   "mimetype": "text/x-python",
   "name": "python",
   "nbconvert_exporter": "python",
   "pygments_lexer": "ipython3",
   "version": "3.8.5"
  }
 },
 "nbformat": 4,
 "nbformat_minor": 4
}
