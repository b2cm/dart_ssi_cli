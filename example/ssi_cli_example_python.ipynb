{
 "cells": [
  {
   "cell_type": "markdown",
   "metadata": {},
   "source": [
    "# Example for SSI-CLI command verify\n",
    "\n",
    "This command could be used to check if signuatures (proof) of a verifiable Credential or verifiable presentation are correct."
   ]
  },
  {
   "cell_type": "code",
   "execution_count": 1,
   "metadata": {},
   "outputs": [],
   "source": [
    "import subprocess\n",
    "import json"
   ]
  },
  {
   "cell_type": "markdown",
   "metadata": {},
   "source": [
    "# Test Data\n",
    "Code that generated this test data could be found in an [example](http://suc-1.hs-mittweida.de/startervorhaben-3/flutter_ssi_wallet/-/blob/master/examples/exampleCreds.dart) of flutter_ssi_wallet library."
   ]
  },
  {
   "cell_type": "code",
   "execution_count": 2,
   "metadata": {},
   "outputs": [],
   "source": [
    "signedCred1 = {\n",
    "  \"@context\": [\n",
    "    \"https://www.w3.org/2018/credentials/v1\"\n",
    "  ],\n",
    "  \"type\": [\n",
    "    \"VerifiableCredential\"\n",
    "  ],\n",
    "  \"credentialSubject\": {\n",
    "    \"id\": \"did:ethr:0x577374933bD29E8c0BAdfA10c8b0b119d21c6757\",\n",
    "    \"type\": [\n",
    "      \"HashedPlaintextCredential2021\",\n",
    "      \"NameCredential\"\n",
    "    ],\n",
    "    \"issuanceDate\": \"0xdab758416426f27ceac06289b6c40958f84e7a3ad85008400dd8f42e561ec2cf\",\n",
    "    \"givenName\": \"0x027f048851772711065336ee9e697a06e7fb8301c82a5bbbd1717b7298717e73\",\n",
    "    \"familyName\": \"0x820d1b779684ccd9ebc36df0713518b4e7d1507e804264c77d9eded2508d891a\"\n",
    "  },\n",
    "  \"issuer\": \"did:ethr:0x945F367FeF6e71Dc4aB6FA73D245E83d8fD98Cca\",\n",
    "  \"issuanceDate\": \"2021-07-20T13:18:22.213497Z\",\n",
    "  \"credentialStatus\": {\n",
    "    \"id\": \"0x279a3b56c0b0e78cc574576DF5dCD752084525F8\",\n",
    "    \"type\": \"EthereumRevocationList\"\n",
    "  },\n",
    "  \"proof\": {\n",
    "    \"type\": \"EcdsaSecp256k1RecoverySignature2020\",\n",
    "    \"proofPurpose\": \"assertionMethod\",\n",
    "    \"verificationMethod\": \"did:ethr:0x945F367FeF6e71Dc4aB6FA73D245E83d8fD98Cca\",\n",
    "    \"created\": \"2021-07-20T13:18:22.217482Z\",\n",
    "    \"jws\": \"eyJhbGciOiJFUzI1NkstUiIsImI2NCI6ZmFsc2UsImNyaXQiOlsiYjY0Il19..tJfcOiebSb_aFXNlvMUvC701RTOQkU-bs5nH3vaOuMBC2rJSRg9Mp14LWt4E45MiaVI64n99HTqnQ8-Uk4MJTQE=\"\n",
    "  }\n",
    "}"
   ]
  },
  {
   "cell_type": "code",
   "execution_count": 3,
   "metadata": {},
   "outputs": [],
   "source": [
    "signedCred2 = {\n",
    "  \"@context\": [\n",
    "    \"https://www.w3.org/2018/credentials/v1\"\n",
    "  ],\n",
    "  \"type\": [\n",
    "    \"VerifiableCredential\"\n",
    "  ],\n",
    "  \"credentialSubject\": {\n",
    "    \"id\": \"did:ethr:0xB68fA383EFE9bD420A9E3Aa6EfF7E63204BC3077\",\n",
    "    \"type\": [\n",
    "      \"HashedPlaintextCredential2021\",\n",
    "      \"NameCredential\"\n",
    "    ],\n",
    "    \"issuanceDate\": \"0xc47579676256f3e4469af215c5598d887acbb3716babc05599eedde6c7c6d06d\",\n",
    "    \"allowedVehicleCategories\": [\n",
    "      \"0x79a7033d8f569ed5bd080faca115928871619f720d40ff163b13946b3975443a\",\n",
    "      \"0xdc7429f63665c2d6e0915118bba17e66772151fde295bbd87b7def7de711ae5d\"\n",
    "    ]\n",
    "  },\n",
    "  \"issuer\": \"did:ethr:0x945F367FeF6e71Dc4aB6FA73D245E83d8fD98Cca\",\n",
    "  \"issuanceDate\": \"2021-07-20T13:18:22.214564Z\",\n",
    "  \"credentialStatus\": {\n",
    "    \"id\": \"0x279a3b56c0b0e78cc574576DF5dCD752084525F8\",\n",
    "    \"type\": \"EthereumRevocationList\"\n",
    "  },\n",
    "  \"proof\": {\n",
    "    \"type\": \"EcdsaSecp256k1RecoverySignature2020\",\n",
    "    \"proofPurpose\": \"assertionMethod\",\n",
    "    \"verificationMethod\": \"did:ethr:0x945F367FeF6e71Dc4aB6FA73D245E83d8fD98Cca\",\n",
    "    \"created\": \"2021-07-20T13:18:22.295322Z\",\n",
    "    \"jws\": \"eyJhbGciOiJFUzI1NkstUiIsImI2NCI6ZmFsc2UsImNyaXQiOlsiYjY0Il19..5qbWbl341MIYJT7kaBfWFDaWL6bO-TmvJoL8YvOfyIJ3OZng3eBcY6-MfEk598zTdySC2q_EbQRrqDjAtdtKRAA=\"\n",
    "  }\n",
    "}"
   ]
  },
  {
   "cell_type": "code",
   "execution_count": 4,
   "metadata": {},
   "outputs": [],
   "source": [
    " signedPresentation1 = {\n",
    "  \"@context\": [\n",
    "    \"https://www.w3.org/2018/credentials/v1\"\n",
    "  ],\n",
    "  \"type\": [\n",
    "    \"VerifiablePresentation\"\n",
    "  ],\n",
    "  \"verifiableCredential\": [\n",
    "    {\n",
    "      \"@context\": [\n",
    "        \"https://www.w3.org/2018/credentials/v1\"\n",
    "      ],\n",
    "      \"type\": [\n",
    "        \"VerifiableCredential\"\n",
    "      ],\n",
    "      \"credentialSubject\": {\n",
    "        \"id\": \"did:ethr:0x577374933bD29E8c0BAdfA10c8b0b119d21c6757\",\n",
    "        \"type\": [\n",
    "          \"HashedPlaintextCredential2021\",\n",
    "          \"NameCredential\"\n",
    "        ],\n",
    "        \"issuanceDate\": \"0xdab758416426f27ceac06289b6c40958f84e7a3ad85008400dd8f42e561ec2cf\",\n",
    "        \"givenName\": \"0x027f048851772711065336ee9e697a06e7fb8301c82a5bbbd1717b7298717e73\",\n",
    "        \"familyName\": \"0x820d1b779684ccd9ebc36df0713518b4e7d1507e804264c77d9eded2508d891a\"\n",
    "      },\n",
    "      \"issuer\": \"did:ethr:0x945F367FeF6e71Dc4aB6FA73D245E83d8fD98Cca\",\n",
    "      \"issuanceDate\": \"2021-07-20T13:18:22.213497Z\",\n",
    "      \"credentialStatus\": {\n",
    "        \"id\": \"0x279a3b56c0b0e78cc574576DF5dCD752084525F8\",\n",
    "        \"type\": \"EthereumRevocationList\"\n",
    "      },\n",
    "      \"proof\": {\n",
    "        \"type\": \"EcdsaSecp256k1RecoverySignature2020\",\n",
    "        \"proofPurpose\": \"assertionMethod\",\n",
    "        \"verificationMethod\": \"did:ethr:0x945F367FeF6e71Dc4aB6FA73D245E83d8fD98Cca\",\n",
    "        \"created\": \"2021-07-20T13:18:22.217482Z\",\n",
    "        \"jws\": \"eyJhbGciOiJFUzI1NkstUiIsImI2NCI6ZmFsc2UsImNyaXQiOlsiYjY0Il19..tJfcOiebSb_aFXNlvMUvC701RTOQkU-bs5nH3vaOuMBC2rJSRg9Mp14LWt4E45MiaVI64n99HTqnQ8-Uk4MJTQE=\"\n",
    "      }\n",
    "    }\n",
    "  ],\n",
    "  \"proof\": [\n",
    "    {\n",
    "      \"type\": \"EcdsaSecp256k1RecoverySignature2020\",\n",
    "      \"proofPurpose\": \"assertionMethod\",\n",
    "      \"verificationMethod\": \"did:ethr:0x577374933bD29E8c0BAdfA10c8b0b119d21c6757\",\n",
    "      \"created\": \"2021-07-20T13:18:22.685731Z\",\n",
    "      \"challenge\": \"3d7754a0-6a5b-4c20-8817-57ddcb9dfa3f\",\n",
    "      \"jws\": \"eyJhbGciOiJFUzI1NkstUiIsImI2NCI6ZmFsc2UsImNyaXQiOlsiYjY0Il19..PjzpB1A3GU6SRzfh9bdyIb1o3pmIpehV8XyFS4fcX_0Ye8Ggq729fONO6_Ij2aWMQeulJEgIagXTfHVuA79eqwE=\"\n",
    "    }\n",
    "  ]\n",
    "}"
   ]
  },
  {
   "cell_type": "code",
   "execution_count": 5,
   "metadata": {},
   "outputs": [],
   "source": [
    "signedPresentation2 = {\n",
    "  \"@context\": [\n",
    "    \"https://www.w3.org/2018/credentials/v1\"\n",
    "  ],\n",
    "  \"type\": [\n",
    "    \"VerifiablePresentation\"\n",
    "  ],\n",
    "  \"verifiableCredential\": [\n",
    "    {\n",
    "      \"@context\": [\n",
    "        \"https://www.w3.org/2018/credentials/v1\"\n",
    "      ],\n",
    "      \"type\": [\n",
    "        \"VerifiableCredential\"\n",
    "      ],\n",
    "      \"credentialSubject\": {\n",
    "        \"id\": \"did:ethr:0x577374933bD29E8c0BAdfA10c8b0b119d21c6757\",\n",
    "        \"type\": [\n",
    "          \"HashedPlaintextCredential2021\",\n",
    "          \"NameCredential\"\n",
    "        ],\n",
    "        \"issuanceDate\": \"0xdab758416426f27ceac06289b6c40958f84e7a3ad85008400dd8f42e561ec2cf\",\n",
    "        \"givenName\": \"0x027f048851772711065336ee9e697a06e7fb8301c82a5bbbd1717b7298717e73\",\n",
    "        \"familyName\": \"0x820d1b779684ccd9ebc36df0713518b4e7d1507e804264c77d9eded2508d891a\"\n",
    "      },\n",
    "      \"issuer\": \"did:ethr:0x945F367FeF6e71Dc4aB6FA73D245E83d8fD98Cca\",\n",
    "      \"issuanceDate\": \"2021-07-20T13:18:22.213497Z\",\n",
    "      \"credentialStatus\": {\n",
    "        \"id\": \"0x279a3b56c0b0e78cc574576DF5dCD752084525F8\",\n",
    "        \"type\": \"EthereumRevocationList\"\n",
    "      },\n",
    "      \"proof\": {\n",
    "        \"type\": \"EcdsaSecp256k1RecoverySignature2020\",\n",
    "        \"proofPurpose\": \"assertionMethod\",\n",
    "        \"verificationMethod\": \"did:ethr:0x945F367FeF6e71Dc4aB6FA73D245E83d8fD98Cca\",\n",
    "        \"created\": \"2021-07-20T13:18:22.217482Z\",\n",
    "        \"jws\": \"eyJhbGciOiJFUzI1NkstUiIsImI2NCI6ZmFsc2UsImNyaXQiOlsiYjY0Il19..tJfcOiebSb_aFXNlvMUvC701RTOQkU-bs5nH3vaOuMBC2rJSRg9Mp14LWt4E45MiaVI64n99HTqnQ8-Uk4MJTQE=\"\n",
    "      }\n",
    "    },\n",
    "    {\n",
    "      \"@context\": [\n",
    "        \"https://www.w3.org/2018/credentials/v1\"\n",
    "      ],\n",
    "      \"type\": [\n",
    "        \"VerifiableCredential\"\n",
    "      ],\n",
    "      \"credentialSubject\": {\n",
    "        \"id\": \"did:ethr:0xB68fA383EFE9bD420A9E3Aa6EfF7E63204BC3077\",\n",
    "        \"type\": [\n",
    "          \"HashedPlaintextCredential2021\",\n",
    "          \"NameCredential\"\n",
    "        ],\n",
    "        \"issuanceDate\": \"0xc47579676256f3e4469af215c5598d887acbb3716babc05599eedde6c7c6d06d\",\n",
    "        \"allowedVehicleCategories\": [\n",
    "          \"0x79a7033d8f569ed5bd080faca115928871619f720d40ff163b13946b3975443a\",\n",
    "          \"0xdc7429f63665c2d6e0915118bba17e66772151fde295bbd87b7def7de711ae5d\"\n",
    "        ]\n",
    "      },\n",
    "      \"issuer\": \"did:ethr:0x945F367FeF6e71Dc4aB6FA73D245E83d8fD98Cca\",\n",
    "      \"issuanceDate\": \"2021-07-20T13:18:22.214564Z\",\n",
    "      \"credentialStatus\": {\n",
    "        \"id\": \"0x279a3b56c0b0e78cc574576DF5dCD752084525F8\",\n",
    "        \"type\": \"EthereumRevocationList\"\n",
    "      },\n",
    "      \"proof\": {\n",
    "        \"type\": \"EcdsaSecp256k1RecoverySignature2020\",\n",
    "        \"proofPurpose\": \"assertionMethod\",\n",
    "        \"verificationMethod\": \"did:ethr:0x945F367FeF6e71Dc4aB6FA73D245E83d8fD98Cca\",\n",
    "        \"created\": \"2021-07-20T13:18:22.295322Z\",\n",
    "        \"jws\": \"eyJhbGciOiJFUzI1NkstUiIsImI2NCI6ZmFsc2UsImNyaXQiOlsiYjY0Il19..5qbWbl341MIYJT7kaBfWFDaWL6bO-TmvJoL8YvOfyIJ3OZng3eBcY6-MfEk598zTdySC2q_EbQRrqDjAtdtKRAA=\"\n",
    "      }\n",
    "    }\n",
    "  ],\n",
    "  \"proof\": [\n",
    "    {\n",
    "      \"type\": \"EcdsaSecp256k1RecoverySignature2020\",\n",
    "      \"proofPurpose\": \"assertionMethod\",\n",
    "      \"verificationMethod\": \"did:ethr:0x577374933bD29E8c0BAdfA10c8b0b119d21c6757\",\n",
    "      \"created\": \"2021-07-20T13:18:22.762596Z\",\n",
    "      \"challenge\": \"e730d560-670f-4d39-aeab-e8ca19e0db1a\",\n",
    "      \"jws\": \"eyJhbGciOiJFUzI1NkstUiIsImI2NCI6ZmFsc2UsImNyaXQiOlsiYjY0Il19..O78_885pAtfWqWpN9tPKaXSMDonn-7WEg6gKD_x8QrFdB83FbPkctC_GsPqAbSLkZ_dVWDHsakv3TO-E_iBRyAA=\"\n",
    "    },\n",
    "    {\n",
    "      \"type\": \"EcdsaSecp256k1RecoverySignature2020\",\n",
    "      \"proofPurpose\": \"assertionMethod\",\n",
    "      \"verificationMethod\": \"did:ethr:0xB68fA383EFE9bD420A9E3Aa6EfF7E63204BC3077\",\n",
    "      \"created\": \"2021-07-20T13:18:22.817928Z\",\n",
    "      \"challenge\": \"e730d560-670f-4d39-aeab-e8ca19e0db1a\",\n",
    "      \"jws\": \"eyJhbGciOiJFUzI1NkstUiIsImI2NCI6ZmFsc2UsImNyaXQiOlsiYjY0Il19..KrFVvguv9HqEdW0M7hahZxct5rG6Pre2zit_fuYHa2s29pvSTPvkhrjtGIKbpMlGK5LD69VaI8sv7FvqXvc-uQA=\"\n",
    "    }\n",
    "  ]\n",
    "}"
   ]
  },
  {
   "cell_type": "code",
   "execution_count": 6,
   "metadata": {},
   "outputs": [],
   "source": [
    "signedPresentationWithDisclosedCredentials = {\n",
    "  \"@context\": [\n",
    "    \"https://www.w3.org/2018/credentials/v1\"\n",
    "  ],\n",
    "  \"type\": [\n",
    "    \"VerifiablePresentation\",\n",
    "    \"DisclosedCredentialPresentation\"\n",
    "  ],\n",
    "  \"verifiableCredential\": [\n",
    "    {\n",
    "      \"@context\": [\n",
    "        \"https://www.w3.org/2018/credentials/v1\"\n",
    "      ],\n",
    "      \"type\": [\n",
    "        \"VerifiableCredential\"\n",
    "      ],\n",
    "      \"credentialSubject\": {\n",
    "        \"id\": \"did:ethr:0x7adeFbcC0D6F9f09c0FBaF7fcDd2a229D4a8f961\",\n",
    "        \"type\": [\n",
    "          \"HashedPlaintextCredential2021\",\n",
    "          \"MailNameCredential\"\n",
    "        ],\n",
    "        \"issuanceDate\": \"0x358456b030f8717a9fd416a274b18643c103c6ef85fcc6d4a2cce76ba459b701\",\n",
    "        \"givenName\": \"0xa2ad67c71b8a46afbffa0036932818b738a94359075155e95bac3740dfe9605a\",\n",
    "        \"familyName\": \"0xe01255d822afb553bea7ececd5d3b2971637eac91bda6e171fbcfb7da88359a1\",\n",
    "        \"email\": \"0x47560c5e65633deb6a710fda5792ea045d2bc692c3b06b6e57f7c648d915063b\"\n",
    "      },\n",
    "      \"issuer\": \"did:ethr:0x945F367FeF6e71Dc4aB6FA73D245E83d8fD98Cca\",\n",
    "      \"issuanceDate\": \"2021-07-20T13:18:22.215307Z\",\n",
    "      \"credentialStatus\": {\n",
    "        \"id\": \"0x279a3b56c0b0e78cc574576DF5dCD752084525F8\",\n",
    "        \"type\": \"EthereumRevocationList\"\n",
    "      },\n",
    "      \"proof\": {\n",
    "        \"type\": \"EcdsaSecp256k1RecoverySignature2020\",\n",
    "        \"proofPurpose\": \"assertionMethod\",\n",
    "        \"verificationMethod\": \"did:ethr:0x945F367FeF6e71Dc4aB6FA73D245E83d8fD98Cca\",\n",
    "        \"created\": \"2021-07-20T13:18:22.352108Z\",\n",
    "        \"jws\": \"eyJhbGciOiJFUzI1NkstUiIsImI2NCI6ZmFsc2UsImNyaXQiOlsiYjY0Il19..7qVNDYKK2ZiNkmmglaOWF2CngbkEJZLBBFEndt2Hm0U2HPXH9AEnrnnqHSYNaq1XIyQP73r9KjUojCvulLAkDwE=\"\n",
    "      }\n",
    "    }\n",
    "  ],\n",
    "  \"disclosedCredentials\": [\n",
    "    {\n",
    "      \"type\": [\n",
    "        \"HashedPlaintextCredential2021\",\n",
    "        \"MailNameCredential\"\n",
    "      ],\n",
    "      \"id\": \"did:ethr:0x7adeFbcC0D6F9f09c0FBaF7fcDd2a229D4a8f961\",\n",
    "      \"hashAlg\": \"keccak-256\",\n",
    "      \"issuanceDate\": {\n",
    "        \"value\": \"2021-07-20\",\n",
    "        \"salt\": \"bac640cf-3e01-4120-9087-0f5afec92a46\"\n",
    "      },\n",
    "      \"email\": {\n",
    "        \"value\": \"mustermann@example.com\",\n",
    "        \"salt\": \"9d7aeb32-95f6-4c83-8fb6-81a34c1321b3\"\n",
    "      }\n",
    "    }\n",
    "  ],\n",
    "  \"proof\": [\n",
    "    {\n",
    "      \"type\": \"EcdsaSecp256k1RecoverySignature2020\",\n",
    "      \"proofPurpose\": \"assertionMethod\",\n",
    "      \"verificationMethod\": \"did:ethr:0x7adeFbcC0D6F9f09c0FBaF7fcDd2a229D4a8f961\",\n",
    "      \"created\": \"2021-07-20T13:18:22.872694Z\",\n",
    "      \"challenge\": \"a113efa4-6f1c-422a-a653-3317c1c4842f\",\n",
    "      \"jws\": \"eyJhbGciOiJFUzI1NkstUiIsImI2NCI6ZmFsc2UsImNyaXQiOlsiYjY0Il19..MILMSX_Q6T3yJzhaJVFOSicjmyTfUgtiWKdiuzOCWnceGIOZfopX36OSbN730r8Z7iJcf3hpsTxhVZsYVa4W1gA=\"\n",
    "    }\n",
    "  ]\n",
    "}"
   ]
  },
  {
   "cell_type": "code",
   "execution_count": 7,
   "metadata": {},
   "outputs": [],
   "source": [
    "disclosedCred1 = {\n",
    "  \"type\": [\n",
    "    \"HashedPlaintextCredential2021\",\n",
    "    \"NameCredential\"\n",
    "  ],\n",
    "  \"id\": \"did:ethr:0x577374933bD29E8c0BAdfA10c8b0b119d21c6757\",\n",
    "  \"hashAlg\": \"keccak-256\",\n",
    "  \"issuanceDate\": {\n",
    "    \"value\": \"2021-07-20\",\n",
    "    \"salt\": \"13a0dfa7-39e1-4b3c-ae3c-580b339f0052\"\n",
    "  },\n",
    "  \"givenName\": {\n",
    "    \"value\": \"Max\",\n",
    "    \"salt\": \"54b462fe-4d6a-4c8d-994d-6d20a6f7fb37\"\n",
    "  }\n",
    "}"
   ]
  },
  {
   "cell_type": "code",
   "execution_count": 8,
   "metadata": {},
   "outputs": [],
   "source": [
    "disclosedCred2 = {\n",
    "  \"type\": [\n",
    "    \"HashedPlaintextCredential2021\",\n",
    "    \"NameCredential\"\n",
    "  ],\n",
    "  \"id\": \"did:ethr:0xB68fA383EFE9bD420A9E3Aa6EfF7E63204BC3077\",\n",
    "  \"hashAlg\": \"keccak-256\",\n",
    "  \"allowedVehicleCategories\": [\n",
    "    {\n",
    "      \"value\": \"B\",\n",
    "      \"salt\": \"3a2b2e5b-8c71-484d-acc8-625bd345aac3\"\n",
    "    }\n",
    "  ]\n",
    "}"
   ]
  },
  {
   "cell_type": "code",
   "execution_count": 9,
   "metadata": {},
   "outputs": [],
   "source": [
    "challenge1 = '3d7754a0-6a5b-4c20-8817-57ddcb9dfa3f'\n",
    "challenge2 = 'e730d560-670f-4d39-aeab-e8ca19e0db1a'\n",
    "challenge3 = 'a113efa4-6f1c-422a-a653-3317c1c4842f'"
   ]
  },
  {
   "cell_type": "markdown",
   "metadata": {},
   "source": [
    "# Command Help"
   ]
  },
  {
   "cell_type": "code",
   "execution_count": 10,
   "metadata": {},
   "outputs": [
    {
     "name": "stdout",
     "output_type": "stream",
     "text": [
      "Verifying credentials and presentations\n",
      "\n",
      "Usage: main verify [arguments]\n",
      "-h, --help                       Print this usage information.\n",
      "    --rpcUrl                     Url for RPC-Endpoint of Ethereum-Node\n",
      "                                 (defaults to \"http://localhost:8545\")\n",
      "-r, --[no-]checkForRevocation    Indicates if the revocation status of credentials should be checked\n",
      "-e, --erc1056Contract            Contract address of ErC1056-Contract (EthereumDIDRegistry)\n",
      "-c, --challenge                  Expected challenge in a presentation. Therefor this option is only needed if you check a presentation.\n",
      "-p, --plaintextCredential        The (disclosed) plaintext credentials. Multiple plaintext credentials allowed, but use -p every time; separating by comma wont work.\n",
      "-s, --signedJson                 The signed json-object (credential or presentation) to check\n",
      "\n",
      "Run \"main help\" to see global options.\n",
      "\n"
     ]
    }
   ],
   "source": [
    "res = subprocess.run(['../build/main', 'verify', '--help'], capture_output=True)\n",
    "print(res.stdout.decode())"
   ]
  },
  {
   "cell_type": "markdown",
   "metadata": {},
   "source": [
    "# Positive Examples\n",
    "- no error output\n",
    "- exit-code = 0"
   ]
  },
  {
   "cell_type": "markdown",
   "metadata": {},
   "source": [
    "Verify, if a credential has correct signature. No check for revocation. No call to ERC1056-contract. No comparision with (disclosed) plaintext Credential."
   ]
  },
  {
   "cell_type": "code",
   "execution_count": 11,
   "metadata": {},
   "outputs": [
    {
     "name": "stdout",
     "output_type": "stream",
     "text": [
      "---Stdout---\n",
      "Signature Check: true\n",
      "\n",
      "---Stderr---\n",
      "\n",
      "---Exit-Code---\n",
      "0\n"
     ]
    }
   ],
   "source": [
    "res = subprocess.run([\"../build/main\",\n",
    "                      \"verify\", \n",
    "                      '-s', json.dumps(signedCred1) \n",
    "                      ], \n",
    "                     capture_output=True )\n",
    "\n",
    "print('---Stdout---')\n",
    "print(res.stdout.decode())\n",
    "print('---Stderr---')\n",
    "print(res.stderr.decode())\n",
    "print('---Exit-Code---')\n",
    "print(res.returncode)"
   ]
  },
  {
   "cell_type": "markdown",
   "metadata": {},
   "source": [
    "Verify, if credentials has correct signature. With comaparision with (disclosed) plaintext credential. No check for revocation, no check of ERC1056-contract."
   ]
  },
  {
   "cell_type": "code",
   "execution_count": 12,
   "metadata": {},
   "outputs": [
    {
     "name": "stdout",
     "output_type": "stream",
     "text": [
      "---Stdout---\n",
      "Signature Check: true\n",
      "Comparision: true\n",
      "\n",
      "---Stderr---\n",
      "\n",
      "---Exit-Code---\n",
      "0\n"
     ]
    }
   ],
   "source": [
    "res = subprocess.run([\"../build/main\",\n",
    "                      \"verify\", \n",
    "                      '-s', json.dumps(signedCred2),  \n",
    "                      '-p', json.dumps(disclosedCred2)], \n",
    "                     capture_output=True )\n",
    "\n",
    "print('---Stdout---')\n",
    "print(res.stdout.decode())\n",
    "print('---Stderr---')\n",
    "print(res.stderr.decode())\n",
    "print('---Exit-Code---')\n",
    "print(res.returncode)"
   ]
  },
  {
   "cell_type": "markdown",
   "metadata": {},
   "source": [
    "Verify, if credentials has correct signature. With comaparision with (disclosed) plaintext credential and check for revocation. No check of ERC1056-contract."
   ]
  },
  {
   "cell_type": "code",
   "execution_count": 13,
   "metadata": {},
   "outputs": [
    {
     "name": "stdout",
     "output_type": "stream",
     "text": [
      "---Stdout---\n",
      "Signature Check: true\n",
      "Comparision: true\n",
      "\n",
      "---Stderr---\n",
      "\n",
      "---Exit-Code---\n",
      "0\n"
     ]
    }
   ],
   "source": [
    "res = subprocess.run([\"../build/main\",\n",
    "                      \"verify\", \n",
    "                      '-s', json.dumps(signedCred2), \n",
    "                      '--rpcUrl', 'http://localhost:7545', \n",
    "                      '-r', \n",
    "                      '-p', json.dumps(disclosedCred2)], \n",
    "                     capture_output=True )\n",
    "\n",
    "print('---Stdout---')\n",
    "print(res.stdout.decode())\n",
    "print('---Stderr---')\n",
    "print(res.stderr.decode())\n",
    "print('---Exit-Code---')\n",
    "print(res.returncode)"
   ]
  },
  {
   "cell_type": "markdown",
   "metadata": {},
   "source": [
    "Verify, if a credential has correct signature. With check for revocation and comparision with (disclosed) plaintext Credential."
   ]
  },
  {
   "cell_type": "code",
   "execution_count": 14,
   "metadata": {},
   "outputs": [
    {
     "name": "stdout",
     "output_type": "stream",
     "text": [
      "---Stdout---\n",
      "Signature Check: true\n",
      "Comparision: true\n",
      "\n",
      "---Stderr---\n",
      "\n",
      "---Exit-Code---\n",
      "0\n"
     ]
    }
   ],
   "source": [
    "res = subprocess.run([\"../build/main\",\n",
    "                      \"verify\", \n",
    "                      '-s', json.dumps(signedCred2), \n",
    "                      '-e0x0eE301c92471234038E320153A7F650ab9a72e28',\n",
    "                      '--rpcUrl', 'http://localhost:7545', \n",
    "                      '-r', \n",
    "                      '-p', json.dumps(disclosedCred2)], \n",
    "                     capture_output=True )\n",
    "\n",
    "print('---Stdout---')\n",
    "print(res.stdout.decode())\n",
    "print('---Stderr---')\n",
    "print(res.stderr.decode())\n",
    "print('---Exit-Code---')\n",
    "print(res.returncode)"
   ]
  },
  {
   "cell_type": "markdown",
   "metadata": {},
   "source": [
    "Verify, if a presentation with one credential is correct. With Check for Credential revocation and comparision with (disclosed) plaintext credential."
   ]
  },
  {
   "cell_type": "code",
   "execution_count": 15,
   "metadata": {},
   "outputs": [
    {
     "name": "stdout",
     "output_type": "stream",
     "text": [
      "---Stdout---\n",
      "Signature Check: true\n",
      "Comparision: true\n",
      "\n",
      "---Stderr---\n",
      "\n",
      "---Exit-Code---\n",
      "0\n"
     ]
    }
   ],
   "source": [
    "res = subprocess.run([\"../build/main\",\n",
    "                      \"verify\", \n",
    "                      '-s', json.dumps(signedPresentation1), \n",
    "                      '-e0x0eE301c92471234038E320153A7F650ab9a72e28',\n",
    "                      '--rpcUrl', 'http://localhost:7545', \n",
    "                      '-r', \n",
    "                      '-p', json.dumps(disclosedCred1), \n",
    "                      '-c', challenge1], \n",
    "                     capture_output=True )\n",
    "\n",
    "print('---Stdout---')\n",
    "print(res.stdout.decode())\n",
    "print('---Stderr---')\n",
    "print(res.stderr.decode())\n",
    "print('---Exit-Code---')\n",
    "print(res.returncode)"
   ]
  },
  {
   "cell_type": "markdown",
   "metadata": {},
   "source": [
    "Verify, if a presentation with two credentials is correct. With Check for Credential revocation and comparision with (disclosed) plaintext credentials. Add -p for every plaintext credential you would like to compare; separating them by comma would not work!"
   ]
  },
  {
   "cell_type": "code",
   "execution_count": 16,
   "metadata": {},
   "outputs": [
    {
     "name": "stdout",
     "output_type": "stream",
     "text": [
      "---Stdout---\n",
      "Signature Check: true\n",
      "Comparision: true\n",
      "\n",
      "---Stderr---\n",
      "\n",
      "---Exit-Code---\n",
      "0\n"
     ]
    }
   ],
   "source": [
    "res = subprocess.run([\"../build/main\",\n",
    "                      \"verify\", \n",
    "                      '-s', json.dumps(signedPresentation2), \n",
    "                      '-e0x0eE301c92471234038E320153A7F650ab9a72e28',\n",
    "                      '--rpcUrl', 'http://localhost:7545', \n",
    "                      '-r', \n",
    "                      '-p', json.dumps(disclosedCred1), \n",
    "                      '-p', json.dumps(disclosedCred2),\n",
    "                      '-c', challenge2], \n",
    "                     capture_output=True )\n",
    "\n",
    "print('---Stdout---')\n",
    "print(res.stdout.decode())\n",
    "print('---Stderr---')\n",
    "print(res.stderr.decode())\n",
    "print('---Exit-Code---')\n",
    "print(res.returncode)"
   ]
  },
  {
   "cell_type": "markdown",
   "metadata": {},
   "source": [
    "Verify, if a presentation containig the disclosed credential is correct."
   ]
  },
  {
   "cell_type": "code",
   "execution_count": 17,
   "metadata": {},
   "outputs": [
    {
     "name": "stdout",
     "output_type": "stream",
     "text": [
      "---Stdout---\n",
      "Signature Check: true\n",
      "\n",
      "---Stderr---\n",
      "\n",
      "---Exit-Code---\n",
      "0\n"
     ]
    }
   ],
   "source": [
    "res = subprocess.run([\"../build/main\",\n",
    "                      \"verify\", \n",
    "                      '-s', json.dumps(signedPresentationWithDisclosedCredentials), \n",
    "                      '-e0x0eE301c92471234038E320153A7F650ab9a72e28',\n",
    "                      '--rpcUrl', 'http://localhost:7545', \n",
    "                      '-r',  \n",
    "                      '-c', challenge3], \n",
    "                     capture_output=True )\n",
    "\n",
    "print('---Stdout---')\n",
    "print(res.stdout.decode())\n",
    "print('---Stderr---')\n",
    "print(res.stderr.decode())\n",
    "print('---Exit-Code---')\n",
    "print(res.returncode)"
   ]
  },
  {
   "cell_type": "markdown",
   "metadata": {},
   "source": [
    "# Negative Examples\n",
    "- exit-code = 2"
   ]
  },
  {
   "cell_type": "markdown",
   "metadata": {},
   "source": [
    "Wrong RPCUrl"
   ]
  },
  {
   "cell_type": "code",
   "execution_count": 18,
   "metadata": {},
   "outputs": [
    {
     "name": "stdout",
     "output_type": "stream",
     "text": [
      "---Stdout---\n",
      "\n",
      "---Stderr---\n",
      "SocketException: OS Error: Connection refused, errno = 111, address = localhost, port = 60894\n",
      "\n",
      "---Exit-Code---\n",
      "2\n"
     ]
    }
   ],
   "source": [
    "res = subprocess.run([\"../build/main\",\n",
    "                      \"verify\", \n",
    "                      '-s', json.dumps(signedPresentation2), \n",
    "                      '-e0x0eE301c92471234038E320153A7F650ab9a72e28', \n",
    "                      '-r', \n",
    "                      '-p', json.dumps(disclosedCred1), \n",
    "                      '-p', json.dumps(disclosedCred2),\n",
    "                      '-c', challenge2], \n",
    "                     capture_output=True )\n",
    "\n",
    "print('---Stdout---')\n",
    "print(res.stdout.decode())\n",
    "print('---Stderr---')\n",
    "print(res.stderr.decode())\n",
    "print('---Exit-Code---')\n",
    "print(res.returncode)"
   ]
  },
  {
   "cell_type": "markdown",
   "metadata": {},
   "source": [
    "No json-object for checking given."
   ]
  },
  {
   "cell_type": "code",
   "execution_count": 19,
   "metadata": {},
   "outputs": [
    {
     "name": "stdout",
     "output_type": "stream",
     "text": [
      "---Stdout---\n",
      "\n",
      "---Stderr---\n",
      "Checkable json-object missing\n",
      "\n",
      "---Exit-Code---\n",
      "2\n"
     ]
    }
   ],
   "source": [
    "res = subprocess.run([\"../build/main\",\n",
    "                      \"verify\",  \n",
    "                      '-e0x0eE301c92471234038E320153A7F650ab9a72e28',\n",
    "                      '--rpcUrl', 'http://localhost:7545', \n",
    "                      '-r', \n",
    "                      '-p', json.dumps(disclosedCred1), \n",
    "                      '-p', json.dumps(disclosedCred2),\n",
    "                      '-c', challenge1], \n",
    "                     capture_output=True )\n",
    "\n",
    "print('---Stdout---')\n",
    "print(res.stdout.decode())\n",
    "print('---Stderr---')\n",
    "print(res.stderr.decode())\n",
    "print('---Exit-Code---')\n",
    "print(res.returncode)"
   ]
  },
  {
   "cell_type": "markdown",
   "metadata": {},
   "source": [
    "Challenge is wrong"
   ]
  },
  {
   "cell_type": "code",
   "execution_count": 20,
   "metadata": {},
   "outputs": [
    {
     "name": "stdout",
     "output_type": "stream",
     "text": [
      "---Stdout---\n",
      "\n",
      "---Stderr---\n",
      "Exception: Challenge does not match\n",
      "\n",
      "---Exit-Code---\n",
      "2\n"
     ]
    }
   ],
   "source": [
    "res = subprocess.run([\"../build/main\",\n",
    "                      \"verify\", \n",
    "                      '-s', json.dumps(signedPresentation2), \n",
    "                      '-e0x0eE301c92471234038E320153A7F650ab9a72e28',\n",
    "                      '--rpcUrl', 'http://localhost:7545', \n",
    "                      '-r', \n",
    "                      '-p', json.dumps(disclosedCred1), \n",
    "                      '-p', json.dumps(disclosedCred2),\n",
    "                      '-c', challenge1], \n",
    "                     capture_output=True )\n",
    "\n",
    "print('---Stdout---')\n",
    "print(res.stdout.decode())\n",
    "print('---Stderr---')\n",
    "print(res.stderr.decode())\n",
    "print('---Exit-Code---')\n",
    "print(res.returncode)"
   ]
  },
  {
   "cell_type": "markdown",
   "metadata": {},
   "source": [
    "Plaintext Credential does not match."
   ]
  },
  {
   "cell_type": "code",
   "execution_count": 21,
   "metadata": {},
   "outputs": [],
   "source": [
    "disclosedCred1Manipulated = {\n",
    "  \"id\": \"did:ethr:0x4d7EC6C217b5d3Ab7811C1932196Af3C5A489d64\",\n",
    "  \"type\": \"NameCredential\",\n",
    "  \"hashAlg\": \"keccak-256\",\n",
    "  \"issuanceDate\": {\n",
    "    \"value\": \"2021-03-24\",\n",
    "    \"salt\": \"d7db8ce9-8acc-49ff-9601-a90b496a164c\",\n",
    "    \"hash\": \"0x9a16cf1fec743db9afad5c503c4b275c4b7c1c50e0a91eff83534d24dba9f3d4\"\n",
    "  },\n",
    "  \"givenName\": {\n",
    "    \"value\": \"Tina\",\n",
    "    \"salt\": \"9dc435b6-be74-4896-b2d0-b6f0cef98379\",\n",
    "    \"hash\": \"0xbff7d1896062b42f83167e4e3b140af7a36af150d7f1c75fce4a2e3712306e8a\"\n",
    "  },\n",
    "  \"familyName\": {\n",
    "    \"hash\": \"0x623d091b5b9c6a3ac97a8bfec23f677b38105f79d5a2fb320b511d70555cc360\"\n",
    "  }\n",
    "}"
   ]
  },
  {
   "cell_type": "code",
   "execution_count": 22,
   "metadata": {},
   "outputs": [
    {
     "name": "stdout",
     "output_type": "stream",
     "text": [
      "---Stdout---\n",
      "\n",
      "---Stderr---\n",
      "Problem in credential with id did:ethr:0x4d7EC6C217b5d3Ab7811C1932196Af3C5A489d64 : Null check operator used on a null value\n",
      "\n",
      "---Exit-Code---\n",
      "2\n"
     ]
    }
   ],
   "source": [
    "res = subprocess.run([\"../build/main\",\n",
    "                      \"verify\", \n",
    "                      '-s', json.dumps(signedPresentation1), \n",
    "                      '-e0x0eE301c92471234038E320153A7F650ab9a72e28',\n",
    "                      '--rpcUrl', 'http://localhost:7545', \n",
    "                      '-r', \n",
    "                      '-p', json.dumps(disclosedCred1Manipulated), \n",
    "                      '-c', challenge1], \n",
    "                     capture_output=True )\n",
    "\n",
    "print('---Stdout---')\n",
    "print(res.stdout.decode())\n",
    "print('---Stderr---')\n",
    "print(res.stderr.decode())\n",
    "print('---Exit-Code---')\n",
    "print(res.returncode)"
   ]
  },
  {
   "cell_type": "markdown",
   "metadata": {},
   "source": [
    "Signature is wrong (Credential was manipulated/Signature itself was manipulated)."
   ]
  },
  {
   "cell_type": "code",
   "execution_count": 23,
   "metadata": {},
   "outputs": [],
   "source": [
    "signedCred1Manipulated = {\n",
    "  \"@context\": [\n",
    "    \"https://www.w3.org/2018/credentials/v1\"\n",
    "  ],\n",
    "  \"type\": [\n",
    "    \"VerifiableCredential\"\n",
    "  ],\n",
    "  \"credentialSubject\": {\n",
    "    \"id\": \"did:ethr:0x4d7EC6C217b5d3Ab7811C1932196Af3C5A489d64\",\n",
    "    \"type\": \"NameCredential\",\n",
    "    \"issuanceDate\": \"0x1234\",\n",
    "    \"givenName\": \"0xbff7d1896062b42f83167e4e3b140af7a36af150d7f1c75fce4a2e3712306e8a\",\n",
    "    \"familyName\": \"0x623d091b5b9c6a3ac97a8bfec23f677b38105f79d5a2fb320b511d70555cc360\"\n",
    "  },\n",
    "  \"issuer\": \"did:ethr:0xCb139d22052749D2Fafc8406dD942453A10cD03D\",\n",
    "  \"issuanceDate\": \"2021-03-24T14:50:11.613723Z\",\n",
    "  \"credentialStatus\": {\n",
    "    \"id\": \"0x2D0bD2c91b4B011AA53207d96813b521E432F96C\",\n",
    "    \"type\": \"EthereumRevocationList\"\n",
    "  },\n",
    "  \"proof\": {\n",
    "    \"type\": \"EcdsaSecp256k1RecoverySignature2020\",\n",
    "    \"proofPurpose\": \"assertionMethod\",\n",
    "    \"verificationMethod\": \"did:ethr:0xCb139d22052749D2Fafc8406dD942453A10cD03D\",\n",
    "    \"created\": \"2021-03-24T14:50:11.615724Z\",\n",
    "    \"jws\": \"eyJhbGciOiJFUzI1NkstUiIsImI2NCI6ZmFsc2UsImNyaXQiOlsiYjY0Il19..ZguE1rqSOiij3GUC3LPQY3J6p2Ycz/xxbkALG90bLphUqd5cgiblSOtodylnNH14BrTDbwJH63BUy7iz49nMoQE=\"\n",
    "  }\n",
    "}"
   ]
  },
  {
   "cell_type": "code",
   "execution_count": 24,
   "metadata": {},
   "outputs": [
    {
     "name": "stdout",
     "output_type": "stream",
     "text": [
      "---Stdout---\n",
      "Signature Check: false\n",
      "\n",
      "---Stderr---\n",
      "\n",
      "---Exit-Code---\n",
      "2\n"
     ]
    }
   ],
   "source": [
    "res = subprocess.run([\"../build/main\",\n",
    "                      \"verify\", \n",
    "                      '-s', json.dumps(signedCred1Manipulated), \n",
    "                      '-e0x0eE301c92471234038E320153A7F650ab9a72e28',\n",
    "                      '--rpcUrl', 'http://localhost:7545'], \n",
    "                     capture_output=True )\n",
    "\n",
    "print('---Stdout---')\n",
    "print(res.stdout.decode())\n",
    "print('---Stderr---')\n",
    "print(res.stderr.decode())\n",
    "print('---Exit-Code---')\n",
    "print(res.returncode)"
   ]
  }
 ],
 "metadata": {
  "kernelspec": {
   "display_name": "Python 3",
   "language": "python",
   "name": "python3"
  },
  "language_info": {
   "codemirror_mode": {
    "name": "ipython",
    "version": 3
   },
   "file_extension": ".py",
   "mimetype": "text/x-python",
   "name": "python",
   "nbconvert_exporter": "python",
   "pygments_lexer": "ipython3",
   "version": "3.8.10"
  }
 },
 "nbformat": 4,
 "nbformat_minor": 4
}
